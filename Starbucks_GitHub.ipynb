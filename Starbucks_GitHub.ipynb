{
 "cells": [
  {
   "cell_type": "markdown",
   "metadata": {},
   "source": [
    "# Starbucks Capstone Challenge"
   ]
  },
  {
   "cell_type": "markdown",
   "metadata": {},
   "source": [
    "## Project Overview"
   ]
  },
  {
   "cell_type": "markdown",
   "metadata": {},
   "source": [
    "Periodically Starbucks will send different offers that might be advertisement, discount or buy one get one free (BOGO) to different customers, and not all users receive the same offers. The business question people most interested in is: which groups of people are most responsive to each type of offer (BOGO, Discount, Informational) sent out by Starbucks? If this is predictable, Starbucks could just send the offer to people who are most likely to reponse to save resources. \n",
    "\n",
    "In this capstone project, I am using the data simulating customer behavior in the Starbucks reward mobile app, provided by Udacity as part of the Data Scientist Nanodegree to answer the above business question."
   ]
  },
  {
   "cell_type": "markdown",
   "metadata": {},
   "source": [
    "## Project Statement / Metrics"
   ]
  },
  {
   "cell_type": "markdown",
   "metadata": {},
   "source": [
    "In this project I am aiming to build a model to predict whether a customer will respond to an offer. The provided data consists of 3 datasets, offer portfolio containing the attributes for each offer, customer demographic data, and transaction data for events happening. Using the provided data, first I build three classification models for each offer type, secondly I build one classification model including all three offer types, lastly based on the metric accuracy, I refine the best classification model using Grid Search"
   ]
  },
  {
   "cell_type": "markdown",
   "metadata": {},
   "source": [
    "## Data Exploration"
   ]
  },
  {
   "cell_type": "code",
   "execution_count": 425,
   "metadata": {},
   "outputs": [],
   "source": [
    "# import necessary packages for data understanding\n",
    "import pandas as pd\n",
    "import numpy as np\n",
    "import math\n",
    "import json\n",
    "%matplotlib inline\n",
    "import warnings\n",
    "warnings.filterwarnings(\"ignore\")"
   ]
  },
  {
   "cell_type": "code",
   "execution_count": 426,
   "metadata": {},
   "outputs": [],
   "source": [
    "# read in the portfolio json files\n",
    "portfolio = pd.read_json('portfolio.json', orient='records', lines=True)"
   ]
  },
  {
   "cell_type": "markdown",
   "metadata": {},
   "source": [
    "Data Schema\n",
    "#### portfolio.json\n",
    "\n",
    "* id (string) - offer id\n",
    "* offer_type (string) - type of offer ie BOGO, discount, informational\n",
    "* difficulty (int) - minimum required spend to complete an offer\n",
    "* reward (int) - reward given for completing an offer\n",
    "* duration (int)\n",
    "* channels (list of strings)"
   ]
  },
  {
   "cell_type": "code",
   "execution_count": 4,
   "metadata": {},
   "outputs": [
    {
     "data": {
      "text/html": [
       "<div>\n",
       "<style scoped>\n",
       "    .dataframe tbody tr th:only-of-type {\n",
       "        vertical-align: middle;\n",
       "    }\n",
       "\n",
       "    .dataframe tbody tr th {\n",
       "        vertical-align: top;\n",
       "    }\n",
       "\n",
       "    .dataframe thead th {\n",
       "        text-align: right;\n",
       "    }\n",
       "</style>\n",
       "<table border=\"1\" class=\"dataframe\">\n",
       "  <thead>\n",
       "    <tr style=\"text-align: right;\">\n",
       "      <th></th>\n",
       "      <th>channels</th>\n",
       "      <th>difficulty</th>\n",
       "      <th>duration</th>\n",
       "      <th>id</th>\n",
       "      <th>offer_type</th>\n",
       "      <th>reward</th>\n",
       "    </tr>\n",
       "  </thead>\n",
       "  <tbody>\n",
       "    <tr>\n",
       "      <th>0</th>\n",
       "      <td>[email, mobile, social]</td>\n",
       "      <td>10</td>\n",
       "      <td>7</td>\n",
       "      <td>ae264e3637204a6fb9bb56bc8210ddfd</td>\n",
       "      <td>bogo</td>\n",
       "      <td>10</td>\n",
       "    </tr>\n",
       "    <tr>\n",
       "      <th>1</th>\n",
       "      <td>[web, email, mobile, social]</td>\n",
       "      <td>10</td>\n",
       "      <td>5</td>\n",
       "      <td>4d5c57ea9a6940dd891ad53e9dbe8da0</td>\n",
       "      <td>bogo</td>\n",
       "      <td>10</td>\n",
       "    </tr>\n",
       "    <tr>\n",
       "      <th>2</th>\n",
       "      <td>[web, email, mobile]</td>\n",
       "      <td>0</td>\n",
       "      <td>4</td>\n",
       "      <td>3f207df678b143eea3cee63160fa8bed</td>\n",
       "      <td>informational</td>\n",
       "      <td>0</td>\n",
       "    </tr>\n",
       "    <tr>\n",
       "      <th>3</th>\n",
       "      <td>[web, email, mobile]</td>\n",
       "      <td>5</td>\n",
       "      <td>7</td>\n",
       "      <td>9b98b8c7a33c4b65b9aebfe6a799e6d9</td>\n",
       "      <td>bogo</td>\n",
       "      <td>5</td>\n",
       "    </tr>\n",
       "    <tr>\n",
       "      <th>4</th>\n",
       "      <td>[web, email]</td>\n",
       "      <td>20</td>\n",
       "      <td>10</td>\n",
       "      <td>0b1e1539f2cc45b7b9fa7c272da2e1d7</td>\n",
       "      <td>discount</td>\n",
       "      <td>5</td>\n",
       "    </tr>\n",
       "  </tbody>\n",
       "</table>\n",
       "</div>"
      ],
      "text/plain": [
       "                       channels  difficulty  duration  \\\n",
       "0       [email, mobile, social]          10         7   \n",
       "1  [web, email, mobile, social]          10         5   \n",
       "2          [web, email, mobile]           0         4   \n",
       "3          [web, email, mobile]           5         7   \n",
       "4                  [web, email]          20        10   \n",
       "\n",
       "                                 id     offer_type  reward  \n",
       "0  ae264e3637204a6fb9bb56bc8210ddfd           bogo      10  \n",
       "1  4d5c57ea9a6940dd891ad53e9dbe8da0           bogo      10  \n",
       "2  3f207df678b143eea3cee63160fa8bed  informational       0  \n",
       "3  9b98b8c7a33c4b65b9aebfe6a799e6d9           bogo       5  \n",
       "4  0b1e1539f2cc45b7b9fa7c272da2e1d7       discount       5  "
      ]
     },
     "execution_count": 4,
     "metadata": {},
     "output_type": "execute_result"
    }
   ],
   "source": [
    "portfolio.head()"
   ]
  },
  {
   "cell_type": "code",
   "execution_count": 5,
   "metadata": {},
   "outputs": [
    {
     "data": {
      "text/plain": [
       "channels      0\n",
       "difficulty    0\n",
       "duration      0\n",
       "id            0\n",
       "offer_type    0\n",
       "reward        0\n",
       "dtype: int64"
      ]
     },
     "execution_count": 5,
     "metadata": {},
     "output_type": "execute_result"
    }
   ],
   "source": [
    "#check for null values\n",
    "portfolio.isnull().sum()"
   ]
  },
  {
   "cell_type": "markdown",
   "metadata": {},
   "source": [
    "There is no missing value for portfolio data"
   ]
  },
  {
   "cell_type": "code",
   "execution_count": 6,
   "metadata": {},
   "outputs": [
    {
     "data": {
      "text/plain": [
       "10"
      ]
     },
     "execution_count": 6,
     "metadata": {},
     "output_type": "execute_result"
    }
   ],
   "source": [
    "#check number of unique offers\n",
    "portfolio['id'].nunique()"
   ]
  },
  {
   "cell_type": "code",
   "execution_count": 7,
   "metadata": {},
   "outputs": [
    {
     "data": {
      "text/plain": [
       "offer_type\n",
       "bogo             4\n",
       "discount         4\n",
       "informational    2\n",
       "Name: id, dtype: int64"
      ]
     },
     "execution_count": 7,
     "metadata": {},
     "output_type": "execute_result"
    }
   ],
   "source": [
    "portfolio.groupby('offer_type')['id'].count()"
   ]
  },
  {
   "cell_type": "markdown",
   "metadata": {},
   "source": [
    "There are 10 offers, 4 of them are BOGO, 4 of them are Discount and 2 of them are informational"
   ]
  },
  {
   "cell_type": "code",
   "execution_count": 8,
   "metadata": {},
   "outputs": [],
   "source": [
    "# read in customer demographic info json files\n",
    "profile = pd.read_json('profile.json', orient='records', lines=True)"
   ]
  },
  {
   "cell_type": "markdown",
   "metadata": {},
   "source": [
    "Data Schema\n",
    "#### profile.json\n",
    "\n",
    "* age (int) - age of the customer\n",
    "* became_member_on (int) - date when customer created an app account\n",
    "* gender (str) - gender of the customer (note some entries contain 'O' for other rather than M or F)\n",
    "* id (str) - customer id\n",
    "* income (float) - customer's income"
   ]
  },
  {
   "cell_type": "code",
   "execution_count": 9,
   "metadata": {},
   "outputs": [
    {
     "data": {
      "text/html": [
       "<div>\n",
       "<style scoped>\n",
       "    .dataframe tbody tr th:only-of-type {\n",
       "        vertical-align: middle;\n",
       "    }\n",
       "\n",
       "    .dataframe tbody tr th {\n",
       "        vertical-align: top;\n",
       "    }\n",
       "\n",
       "    .dataframe thead th {\n",
       "        text-align: right;\n",
       "    }\n",
       "</style>\n",
       "<table border=\"1\" class=\"dataframe\">\n",
       "  <thead>\n",
       "    <tr style=\"text-align: right;\">\n",
       "      <th></th>\n",
       "      <th>age</th>\n",
       "      <th>became_member_on</th>\n",
       "      <th>gender</th>\n",
       "      <th>id</th>\n",
       "      <th>income</th>\n",
       "    </tr>\n",
       "  </thead>\n",
       "  <tbody>\n",
       "    <tr>\n",
       "      <th>0</th>\n",
       "      <td>118</td>\n",
       "      <td>20170212</td>\n",
       "      <td>None</td>\n",
       "      <td>68be06ca386d4c31939f3a4f0e3dd783</td>\n",
       "      <td>NaN</td>\n",
       "    </tr>\n",
       "    <tr>\n",
       "      <th>1</th>\n",
       "      <td>55</td>\n",
       "      <td>20170715</td>\n",
       "      <td>F</td>\n",
       "      <td>0610b486422d4921ae7d2bf64640c50b</td>\n",
       "      <td>112000.0</td>\n",
       "    </tr>\n",
       "    <tr>\n",
       "      <th>2</th>\n",
       "      <td>118</td>\n",
       "      <td>20180712</td>\n",
       "      <td>None</td>\n",
       "      <td>38fe809add3b4fcf9315a9694bb96ff5</td>\n",
       "      <td>NaN</td>\n",
       "    </tr>\n",
       "    <tr>\n",
       "      <th>3</th>\n",
       "      <td>75</td>\n",
       "      <td>20170509</td>\n",
       "      <td>F</td>\n",
       "      <td>78afa995795e4d85b5d9ceeca43f5fef</td>\n",
       "      <td>100000.0</td>\n",
       "    </tr>\n",
       "    <tr>\n",
       "      <th>4</th>\n",
       "      <td>118</td>\n",
       "      <td>20170804</td>\n",
       "      <td>None</td>\n",
       "      <td>a03223e636434f42ac4c3df47e8bac43</td>\n",
       "      <td>NaN</td>\n",
       "    </tr>\n",
       "  </tbody>\n",
       "</table>\n",
       "</div>"
      ],
      "text/plain": [
       "   age  became_member_on gender                                id    income\n",
       "0  118          20170212   None  68be06ca386d4c31939f3a4f0e3dd783       NaN\n",
       "1   55          20170715      F  0610b486422d4921ae7d2bf64640c50b  112000.0\n",
       "2  118          20180712   None  38fe809add3b4fcf9315a9694bb96ff5       NaN\n",
       "3   75          20170509      F  78afa995795e4d85b5d9ceeca43f5fef  100000.0\n",
       "4  118          20170804   None  a03223e636434f42ac4c3df47e8bac43       NaN"
      ]
     },
     "execution_count": 9,
     "metadata": {},
     "output_type": "execute_result"
    }
   ],
   "source": [
    "profile.head()"
   ]
  },
  {
   "cell_type": "code",
   "execution_count": 16,
   "metadata": {},
   "outputs": [
    {
     "data": {
      "text/plain": [
       "age                 0.000000\n",
       "became_member_on    0.000000\n",
       "gender              0.127941\n",
       "id                  0.000000\n",
       "income              0.127941\n",
       "dtype: float64"
      ]
     },
     "execution_count": 16,
     "metadata": {},
     "output_type": "execute_result"
    }
   ],
   "source": [
    "#check for null values\n",
    "profile.isnull().mean()"
   ]
  },
  {
   "cell_type": "code",
   "execution_count": 11,
   "metadata": {},
   "outputs": [
    {
     "data": {
      "text/plain": [
       "array([nan])"
      ]
     },
     "execution_count": 11,
     "metadata": {},
     "output_type": "execute_result"
    }
   ],
   "source": [
    "profile['income'][profile['gender'].isnull()].unique()"
   ]
  },
  {
   "cell_type": "code",
   "execution_count": 12,
   "metadata": {},
   "outputs": [
    {
     "data": {
      "text/plain": [
       "array([None], dtype=object)"
      ]
     },
     "execution_count": 12,
     "metadata": {},
     "output_type": "execute_result"
    }
   ],
   "source": [
    "profile['gender'][profile['income'].isnull()].unique()"
   ]
  },
  {
   "cell_type": "code",
   "execution_count": 13,
   "metadata": {},
   "outputs": [
    {
     "data": {
      "text/plain": [
       "array([118], dtype=int64)"
      ]
     },
     "execution_count": 13,
     "metadata": {},
     "output_type": "execute_result"
    }
   ],
   "source": [
    "profile['age'][profile['income'].isnull()].unique()"
   ]
  },
  {
   "cell_type": "code",
   "execution_count": 14,
   "metadata": {},
   "outputs": [
    {
     "data": {
      "text/plain": [
       "<matplotlib.axes._subplots.AxesSubplot at 0x16421238940>"
      ]
     },
     "execution_count": 14,
     "metadata": {},
     "output_type": "execute_result"
    },
    {
     "data": {
      "image/png": "[encoded data removed]",
      "text/plain": [
       "<Figure size 432x288 with 1 Axes>"
      ]
     },
     "metadata": {
      "needs_background": "light"
     },
     "output_type": "display_data"
    }
   ],
   "source": [
    "#check distribution of age column\n",
    "profile['age'].hist()"
   ]
  },
  {
   "cell_type": "markdown",
   "metadata": {},
   "source": [
    "when gender (income) info is missing, income (gender) info is missing, and age is assigned as 118, we might remove this part of data from our analysis as they do not take a large portion of the data"
   ]
  },
  {
   "cell_type": "code",
   "execution_count": 17,
   "metadata": {},
   "outputs": [
    {
     "data": {
      "text/plain": [
       "17000"
      ]
     },
     "execution_count": 17,
     "metadata": {},
     "output_type": "execute_result"
    }
   ],
   "source": [
    "#check how many distinct people are in dataset\n",
    "profile['id'].nunique()"
   ]
  },
  {
   "cell_type": "code",
   "execution_count": 18,
   "metadata": {},
   "outputs": [
    {
     "data": {
      "text/plain": [
       "<matplotlib.axes._subplots.AxesSubplot at 0x164227a6278>"
      ]
     },
     "execution_count": 18,
     "metadata": {},
     "output_type": "execute_result"
    },
    {
     "data": {
      "image/png": "[encoded data removed]",
      "text/plain": [
       "<Figure size 432x288 with 1 Axes>"
      ]
     },
     "metadata": {
      "needs_background": "light"
     },
     "output_type": "display_data"
    }
   ],
   "source": [
    "#check distributions of income\n",
    "profile.income.hist()"
   ]
  },
  {
   "cell_type": "code",
   "execution_count": 28,
   "metadata": {},
   "outputs": [
    {
     "data": {
      "text/plain": [
       "array([None, 'F', 'M', 'O'], dtype=object)"
      ]
     },
     "execution_count": 28,
     "metadata": {},
     "output_type": "execute_result"
    }
   ],
   "source": [
    "profile['gender'].unique()"
   ]
  },
  {
   "cell_type": "code",
   "execution_count": 35,
   "metadata": {},
   "outputs": [
    {
     "data": {
      "text/plain": [
       "0.014300168634064081"
      ]
     },
     "execution_count": 35,
     "metadata": {},
     "output_type": "execute_result"
    }
   ],
   "source": [
    "profile[profile['gender']=='O']['gender'].count()/profile['gender'].count()"
   ]
  },
  {
   "cell_type": "markdown",
   "metadata": {},
   "source": [
    "A small portion of customer does not have valid gender info, might remove them from analysis"
   ]
  },
  {
   "cell_type": "code",
   "execution_count": 36,
   "metadata": {},
   "outputs": [],
   "source": [
    "# read in transaction info json files\n",
    "transcript = pd.read_json('transcript.json', orient='records', lines=True)"
   ]
  },
  {
   "cell_type": "markdown",
   "metadata": {},
   "source": [
    "Data Schema\n",
    "#### transcript.json\n",
    "\n",
    "* event (str) - record description (ie transaction, offer received, offer viewed, etc.)\n",
    "* person (str) - customer id\n",
    "* time (int) - time in hours. The data begins at time t=0\n",
    "* value - (dict of strings) - either an offer id or transaction amount depending on the record"
   ]
  },
  {
   "cell_type": "code",
   "execution_count": 20,
   "metadata": {},
   "outputs": [
    {
     "data": {
      "text/html": [
       "<div>\n",
       "<style scoped>\n",
       "    .dataframe tbody tr th:only-of-type {\n",
       "        vertical-align: middle;\n",
       "    }\n",
       "\n",
       "    .dataframe tbody tr th {\n",
       "        vertical-align: top;\n",
       "    }\n",
       "\n",
       "    .dataframe thead th {\n",
       "        text-align: right;\n",
       "    }\n",
       "</style>\n",
       "<table border=\"1\" class=\"dataframe\">\n",
       "  <thead>\n",
       "    <tr style=\"text-align: right;\">\n",
       "      <th></th>\n",
       "      <th>event</th>\n",
       "      <th>person</th>\n",
       "      <th>time</th>\n",
       "      <th>value</th>\n",
       "    </tr>\n",
       "  </thead>\n",
       "  <tbody>\n",
       "    <tr>\n",
       "      <th>0</th>\n",
       "      <td>offer received</td>\n",
       "      <td>78afa995795e4d85b5d9ceeca43f5fef</td>\n",
       "      <td>0</td>\n",
       "      <td>{'offer id': '9b98b8c7a33c4b65b9aebfe6a799e6d9'}</td>\n",
       "    </tr>\n",
       "    <tr>\n",
       "      <th>1</th>\n",
       "      <td>offer received</td>\n",
       "      <td>a03223e636434f42ac4c3df47e8bac43</td>\n",
       "      <td>0</td>\n",
       "      <td>{'offer id': '0b1e1539f2cc45b7b9fa7c272da2e1d7'}</td>\n",
       "    </tr>\n",
       "    <tr>\n",
       "      <th>2</th>\n",
       "      <td>offer received</td>\n",
       "      <td>e2127556f4f64592b11af22de27a7932</td>\n",
       "      <td>0</td>\n",
       "      <td>{'offer id': '2906b810c7d4411798c6938adc9daaa5'}</td>\n",
       "    </tr>\n",
       "    <tr>\n",
       "      <th>3</th>\n",
       "      <td>offer received</td>\n",
       "      <td>8ec6ce2a7e7949b1bf142def7d0e0586</td>\n",
       "      <td>0</td>\n",
       "      <td>{'offer id': 'fafdcd668e3743c1bb461111dcafc2a4'}</td>\n",
       "    </tr>\n",
       "    <tr>\n",
       "      <th>4</th>\n",
       "      <td>offer received</td>\n",
       "      <td>68617ca6246f4fbc85e91a2a49552598</td>\n",
       "      <td>0</td>\n",
       "      <td>{'offer id': '4d5c57ea9a6940dd891ad53e9dbe8da0'}</td>\n",
       "    </tr>\n",
       "  </tbody>\n",
       "</table>\n",
       "</div>"
      ],
      "text/plain": [
       "            event                            person  time  \\\n",
       "0  offer received  78afa995795e4d85b5d9ceeca43f5fef     0   \n",
       "1  offer received  a03223e636434f42ac4c3df47e8bac43     0   \n",
       "2  offer received  e2127556f4f64592b11af22de27a7932     0   \n",
       "3  offer received  8ec6ce2a7e7949b1bf142def7d0e0586     0   \n",
       "4  offer received  68617ca6246f4fbc85e91a2a49552598     0   \n",
       "\n",
       "                                              value  \n",
       "0  {'offer id': '9b98b8c7a33c4b65b9aebfe6a799e6d9'}  \n",
       "1  {'offer id': '0b1e1539f2cc45b7b9fa7c272da2e1d7'}  \n",
       "2  {'offer id': '2906b810c7d4411798c6938adc9daaa5'}  \n",
       "3  {'offer id': 'fafdcd668e3743c1bb461111dcafc2a4'}  \n",
       "4  {'offer id': '4d5c57ea9a6940dd891ad53e9dbe8da0'}  "
      ]
     },
     "execution_count": 20,
     "metadata": {},
     "output_type": "execute_result"
    }
   ],
   "source": [
    "transcript.head()"
   ]
  },
  {
   "cell_type": "code",
   "execution_count": 21,
   "metadata": {},
   "outputs": [
    {
     "data": {
      "text/plain": [
       "array(['offer received', 'offer viewed', 'transaction', 'offer completed'],\n",
       "      dtype=object)"
      ]
     },
     "execution_count": 21,
     "metadata": {},
     "output_type": "execute_result"
    }
   ],
   "source": [
    "transcript['event'].unique()"
   ]
  },
  {
   "cell_type": "markdown",
   "metadata": {},
   "source": [
    "There are four types of event, offer received, viewed, transction and completed, ordered by time"
   ]
  },
  {
   "cell_type": "code",
   "execution_count": 22,
   "metadata": {},
   "outputs": [
    {
     "data": {
      "text/plain": [
       "event     0\n",
       "person    0\n",
       "time      0\n",
       "value     0\n",
       "dtype: int64"
      ]
     },
     "execution_count": 22,
     "metadata": {},
     "output_type": "execute_result"
    }
   ],
   "source": [
    "#check for null values\n",
    "transcript.isnull().sum()"
   ]
  },
  {
   "cell_type": "code",
   "execution_count": 23,
   "metadata": {},
   "outputs": [
    {
     "data": {
      "text/plain": [
       "17000"
      ]
     },
     "execution_count": 23,
     "metadata": {},
     "output_type": "execute_result"
    }
   ],
   "source": [
    "#check number of distinct people having transaction info\n",
    "transcript['person'].nunique()"
   ]
  },
  {
   "cell_type": "markdown",
   "metadata": {},
   "source": [
    "The number of people in the transaction dataset is consistent with the number of people in the demographic profile"
   ]
  },
  {
   "cell_type": "markdown",
   "metadata": {},
   "source": [
    "In order to extract insights from the value column, will expand it based on the event type"
   ]
  },
  {
   "cell_type": "code",
   "execution_count": 37,
   "metadata": {},
   "outputs": [
    {
     "data": {
      "text/html": [
       "<div>\n",
       "<style scoped>\n",
       "    .dataframe tbody tr th:only-of-type {\n",
       "        vertical-align: middle;\n",
       "    }\n",
       "\n",
       "    .dataframe tbody tr th {\n",
       "        vertical-align: top;\n",
       "    }\n",
       "\n",
       "    .dataframe thead th {\n",
       "        text-align: right;\n",
       "    }\n",
       "</style>\n",
       "<table border=\"1\" class=\"dataframe\">\n",
       "  <thead>\n",
       "    <tr style=\"text-align: right;\">\n",
       "      <th></th>\n",
       "      <th>event</th>\n",
       "      <th>person</th>\n",
       "      <th>time</th>\n",
       "      <th>value</th>\n",
       "      <th>offer id</th>\n",
       "      <th>amount</th>\n",
       "      <th>offer_id</th>\n",
       "      <th>reward</th>\n",
       "    </tr>\n",
       "  </thead>\n",
       "  <tbody>\n",
       "    <tr>\n",
       "      <th>0</th>\n",
       "      <td>offer received</td>\n",
       "      <td>78afa995795e4d85b5d9ceeca43f5fef</td>\n",
       "      <td>0</td>\n",
       "      <td>{'offer id': '9b98b8c7a33c4b65b9aebfe6a799e6d9'}</td>\n",
       "      <td>9b98b8c7a33c4b65b9aebfe6a799e6d9</td>\n",
       "      <td>NaN</td>\n",
       "      <td>NaN</td>\n",
       "      <td>NaN</td>\n",
       "    </tr>\n",
       "    <tr>\n",
       "      <th>1</th>\n",
       "      <td>offer received</td>\n",
       "      <td>a03223e636434f42ac4c3df47e8bac43</td>\n",
       "      <td>0</td>\n",
       "      <td>{'offer id': '0b1e1539f2cc45b7b9fa7c272da2e1d7'}</td>\n",
       "      <td>0b1e1539f2cc45b7b9fa7c272da2e1d7</td>\n",
       "      <td>NaN</td>\n",
       "      <td>NaN</td>\n",
       "      <td>NaN</td>\n",
       "    </tr>\n",
       "    <tr>\n",
       "      <th>2</th>\n",
       "      <td>offer received</td>\n",
       "      <td>e2127556f4f64592b11af22de27a7932</td>\n",
       "      <td>0</td>\n",
       "      <td>{'offer id': '2906b810c7d4411798c6938adc9daaa5'}</td>\n",
       "      <td>2906b810c7d4411798c6938adc9daaa5</td>\n",
       "      <td>NaN</td>\n",
       "      <td>NaN</td>\n",
       "      <td>NaN</td>\n",
       "    </tr>\n",
       "    <tr>\n",
       "      <th>3</th>\n",
       "      <td>offer received</td>\n",
       "      <td>8ec6ce2a7e7949b1bf142def7d0e0586</td>\n",
       "      <td>0</td>\n",
       "      <td>{'offer id': 'fafdcd668e3743c1bb461111dcafc2a4'}</td>\n",
       "      <td>fafdcd668e3743c1bb461111dcafc2a4</td>\n",
       "      <td>NaN</td>\n",
       "      <td>NaN</td>\n",
       "      <td>NaN</td>\n",
       "    </tr>\n",
       "    <tr>\n",
       "      <th>4</th>\n",
       "      <td>offer received</td>\n",
       "      <td>68617ca6246f4fbc85e91a2a49552598</td>\n",
       "      <td>0</td>\n",
       "      <td>{'offer id': '4d5c57ea9a6940dd891ad53e9dbe8da0'}</td>\n",
       "      <td>4d5c57ea9a6940dd891ad53e9dbe8da0</td>\n",
       "      <td>NaN</td>\n",
       "      <td>NaN</td>\n",
       "      <td>NaN</td>\n",
       "    </tr>\n",
       "  </tbody>\n",
       "</table>\n",
       "</div>"
      ],
      "text/plain": [
       "            event                            person  time  \\\n",
       "0  offer received  78afa995795e4d85b5d9ceeca43f5fef     0   \n",
       "1  offer received  a03223e636434f42ac4c3df47e8bac43     0   \n",
       "2  offer received  e2127556f4f64592b11af22de27a7932     0   \n",
       "3  offer received  8ec6ce2a7e7949b1bf142def7d0e0586     0   \n",
       "4  offer received  68617ca6246f4fbc85e91a2a49552598     0   \n",
       "\n",
       "                                              value  \\\n",
       "0  {'offer id': '9b98b8c7a33c4b65b9aebfe6a799e6d9'}   \n",
       "1  {'offer id': '0b1e1539f2cc45b7b9fa7c272da2e1d7'}   \n",
       "2  {'offer id': '2906b810c7d4411798c6938adc9daaa5'}   \n",
       "3  {'offer id': 'fafdcd668e3743c1bb461111dcafc2a4'}   \n",
       "4  {'offer id': '4d5c57ea9a6940dd891ad53e9dbe8da0'}   \n",
       "\n",
       "                           offer id  amount offer_id  reward  \n",
       "0  9b98b8c7a33c4b65b9aebfe6a799e6d9     NaN      NaN     NaN  \n",
       "1  0b1e1539f2cc45b7b9fa7c272da2e1d7     NaN      NaN     NaN  \n",
       "2  2906b810c7d4411798c6938adc9daaa5     NaN      NaN     NaN  \n",
       "3  fafdcd668e3743c1bb461111dcafc2a4     NaN      NaN     NaN  \n",
       "4  4d5c57ea9a6940dd891ad53e9dbe8da0     NaN      NaN     NaN  "
      ]
     },
     "execution_count": 37,
     "metadata": {},
     "output_type": "execute_result"
    }
   ],
   "source": [
    "transcript=pd.concat([transcript, transcript['value'].apply(pd.Series)], axis=1)\n",
    "transcript.head()"
   ]
  },
  {
   "cell_type": "markdown",
   "metadata": {},
   "source": [
    "offer id column is duplicated, clean up the dataset to make offer id unique"
   ]
  },
  {
   "cell_type": "code",
   "execution_count": 38,
   "metadata": {},
   "outputs": [],
   "source": [
    "transcript['offer_id_2']=np.where(transcript['offer id'].isnull() & transcript['offer_id'].notnull(),transcript['offer_id'],transcript['offer id'])\n",
    "transcript.drop(['offer id','offer_id'],axis=1,inplace=True)\n",
    "transcript.rename(columns={'offer_id_2':'offer_id'},inplace=True)"
   ]
  },
  {
   "cell_type": "code",
   "execution_count": 39,
   "metadata": {},
   "outputs": [
    {
     "data": {
      "text/html": [
       "<div>\n",
       "<style scoped>\n",
       "    .dataframe tbody tr th:only-of-type {\n",
       "        vertical-align: middle;\n",
       "    }\n",
       "\n",
       "    .dataframe tbody tr th {\n",
       "        vertical-align: top;\n",
       "    }\n",
       "\n",
       "    .dataframe thead th {\n",
       "        text-align: right;\n",
       "    }\n",
       "</style>\n",
       "<table border=\"1\" class=\"dataframe\">\n",
       "  <thead>\n",
       "    <tr style=\"text-align: right;\">\n",
       "      <th></th>\n",
       "      <th>event</th>\n",
       "      <th>person</th>\n",
       "      <th>time</th>\n",
       "      <th>value</th>\n",
       "      <th>amount</th>\n",
       "      <th>reward</th>\n",
       "      <th>offer_id</th>\n",
       "    </tr>\n",
       "  </thead>\n",
       "  <tbody>\n",
       "    <tr>\n",
       "      <th>0</th>\n",
       "      <td>offer received</td>\n",
       "      <td>78afa995795e4d85b5d9ceeca43f5fef</td>\n",
       "      <td>0</td>\n",
       "      <td>{'offer id': '9b98b8c7a33c4b65b9aebfe6a799e6d9'}</td>\n",
       "      <td>NaN</td>\n",
       "      <td>NaN</td>\n",
       "      <td>9b98b8c7a33c4b65b9aebfe6a799e6d9</td>\n",
       "    </tr>\n",
       "    <tr>\n",
       "      <th>1</th>\n",
       "      <td>offer received</td>\n",
       "      <td>a03223e636434f42ac4c3df47e8bac43</td>\n",
       "      <td>0</td>\n",
       "      <td>{'offer id': '0b1e1539f2cc45b7b9fa7c272da2e1d7'}</td>\n",
       "      <td>NaN</td>\n",
       "      <td>NaN</td>\n",
       "      <td>0b1e1539f2cc45b7b9fa7c272da2e1d7</td>\n",
       "    </tr>\n",
       "    <tr>\n",
       "      <th>2</th>\n",
       "      <td>offer received</td>\n",
       "      <td>e2127556f4f64592b11af22de27a7932</td>\n",
       "      <td>0</td>\n",
       "      <td>{'offer id': '2906b810c7d4411798c6938adc9daaa5'}</td>\n",
       "      <td>NaN</td>\n",
       "      <td>NaN</td>\n",
       "      <td>2906b810c7d4411798c6938adc9daaa5</td>\n",
       "    </tr>\n",
       "    <tr>\n",
       "      <th>3</th>\n",
       "      <td>offer received</td>\n",
       "      <td>8ec6ce2a7e7949b1bf142def7d0e0586</td>\n",
       "      <td>0</td>\n",
       "      <td>{'offer id': 'fafdcd668e3743c1bb461111dcafc2a4'}</td>\n",
       "      <td>NaN</td>\n",
       "      <td>NaN</td>\n",
       "      <td>fafdcd668e3743c1bb461111dcafc2a4</td>\n",
       "    </tr>\n",
       "    <tr>\n",
       "      <th>4</th>\n",
       "      <td>offer received</td>\n",
       "      <td>68617ca6246f4fbc85e91a2a49552598</td>\n",
       "      <td>0</td>\n",
       "      <td>{'offer id': '4d5c57ea9a6940dd891ad53e9dbe8da0'}</td>\n",
       "      <td>NaN</td>\n",
       "      <td>NaN</td>\n",
       "      <td>4d5c57ea9a6940dd891ad53e9dbe8da0</td>\n",
       "    </tr>\n",
       "  </tbody>\n",
       "</table>\n",
       "</div>"
      ],
      "text/plain": [
       "            event                            person  time  \\\n",
       "0  offer received  78afa995795e4d85b5d9ceeca43f5fef     0   \n",
       "1  offer received  a03223e636434f42ac4c3df47e8bac43     0   \n",
       "2  offer received  e2127556f4f64592b11af22de27a7932     0   \n",
       "3  offer received  8ec6ce2a7e7949b1bf142def7d0e0586     0   \n",
       "4  offer received  68617ca6246f4fbc85e91a2a49552598     0   \n",
       "\n",
       "                                              value  amount  reward  \\\n",
       "0  {'offer id': '9b98b8c7a33c4b65b9aebfe6a799e6d9'}     NaN     NaN   \n",
       "1  {'offer id': '0b1e1539f2cc45b7b9fa7c272da2e1d7'}     NaN     NaN   \n",
       "2  {'offer id': '2906b810c7d4411798c6938adc9daaa5'}     NaN     NaN   \n",
       "3  {'offer id': 'fafdcd668e3743c1bb461111dcafc2a4'}     NaN     NaN   \n",
       "4  {'offer id': '4d5c57ea9a6940dd891ad53e9dbe8da0'}     NaN     NaN   \n",
       "\n",
       "                           offer_id  \n",
       "0  9b98b8c7a33c4b65b9aebfe6a799e6d9  \n",
       "1  0b1e1539f2cc45b7b9fa7c272da2e1d7  \n",
       "2  2906b810c7d4411798c6938adc9daaa5  \n",
       "3  fafdcd668e3743c1bb461111dcafc2a4  \n",
       "4  4d5c57ea9a6940dd891ad53e9dbe8da0  "
      ]
     },
     "execution_count": 39,
     "metadata": {},
     "output_type": "execute_result"
    }
   ],
   "source": [
    "transcript.head()"
   ]
  },
  {
   "cell_type": "markdown",
   "metadata": {},
   "source": [
    "## Data Processing"
   ]
  },
  {
   "cell_type": "markdown",
   "metadata": {},
   "source": [
    "#### First, I would like to explore what kind of event are available for each offer type"
   ]
  },
  {
   "cell_type": "code",
   "execution_count": 40,
   "metadata": {},
   "outputs": [],
   "source": [
    "#rename IDs in the profile and portfolio table so that the names are consistent across three tables\n",
    "profile.rename(columns={'id':'person'},inplace=True)\n",
    "portfolio.rename(columns={'id':'offer_id'},inplace=True)"
   ]
  },
  {
   "cell_type": "code",
   "execution_count": 45,
   "metadata": {},
   "outputs": [
    {
     "data": {
      "text/plain": [
       "event            offer_type   \n",
       "offer completed  bogo             15669\n",
       "                 discount         17910\n",
       "offer received   bogo             30499\n",
       "                 discount         30543\n",
       "                 informational    15235\n",
       "offer viewed     bogo             25449\n",
       "                 discount         21445\n",
       "                 informational    10831\n",
       "Name: offer_type, dtype: int64"
      ]
     },
     "execution_count": 45,
     "metadata": {},
     "output_type": "execute_result"
    }
   ],
   "source": [
    "transcript.merge(portfolio,how='left',on='offer_id').groupby(['event','offer_type'])['offer_type'].count()"
   ]
  },
  {
   "cell_type": "markdown",
   "metadata": {},
   "source": [
    "#### Second, I would like to define effective offer for each offer type"
   ]
  },
  {
   "cell_type": "markdown",
   "metadata": {},
   "source": [
    "There are four types of events, offer received, viewed, completed and transaction, transaction does not have any offer id attached with it.\n",
    "BOGO and Discount offer have offer completed, but infomational offer does not have offer completed"
   ]
  },
  {
   "cell_type": "markdown",
   "metadata": {},
   "source": [
    "For BOGO and Discount offer, an effective offer would be identified if the following events happening in the right order like:\n",
    "offer received -> offer viewed -> transaction -> offer completed (between offer recived and expired) \n",
    "\n",
    "For informational offer, an effective offer would be identified if the following events happening in the righ order like:\n",
    "offer received -> offer viewed -> transaction (between offer recived and expired)"
   ]
  },
  {
   "cell_type": "markdown",
   "metadata": {},
   "source": [
    "#### Lastly I would like to do feature engineer to extract the features that would be used for modeling"
   ]
  },
  {
   "cell_type": "code",
   "execution_count": 47,
   "metadata": {},
   "outputs": [],
   "source": [
    "#extract the channel info for each offer type\n",
    "def email(x):\n",
    "    '''the function is used to generate a number to indicate whether the offer is available through email,\n",
    "    input is the list of channels available for the offer, output is integer 1 if the offer is available through email,\n",
    "    and integer 0 if the offer is not available through email'''\n",
    "    if 'email' in x:\n",
    "        return 1\n",
    "    else:\n",
    "        return 0\n",
    "portfolio['email']=portfolio['channels'].apply(lambda x:email(x))\n",
    "\n",
    "def web(x):\n",
    "    '''the function is used to generate a number to indicate whether the offer is available through web,\n",
    "    input is the list of channels available for the offer, output is integer 1 if the offer is available through web,\n",
    "    and integer 0 if the offer is not available through web'''\n",
    "    if 'web' in x:\n",
    "        return 1\n",
    "    else:\n",
    "        return 0\n",
    "portfolio['web']=portfolio['channels'].apply(lambda x:web(x))\n",
    "\n",
    "def mobile(x):\n",
    "    '''the function is used to generate a number to indicate whether the offer is available through mobile,\n",
    "    input is the list of channels available for the offer, output is integer 1 if the offer is available through mobile,\n",
    "    and integer 0 if the offer is not available through mobile'''\n",
    "    if 'mobile' in x:\n",
    "        return 1\n",
    "    else:\n",
    "        return 0\n",
    "portfolio['mobile']=portfolio['channels'].apply(lambda x:mobile(x))\n",
    "\n",
    "def social(x):\n",
    "    '''the function is used to generate a number to indicate whether the offer is available through social media,\n",
    "    input is the list of channels available for the offer, output is integer 1 if the offer is available through social media,\n",
    "    and integer 0 if the offer is not available through social media'''\n",
    "    if 'social' in x:\n",
    "        return 1\n",
    "    else:\n",
    "        return 0\n",
    "portfolio['social']=portfolio['channels'].apply(lambda x:social(x))"
   ]
  },
  {
   "cell_type": "code",
   "execution_count": 48,
   "metadata": {},
   "outputs": [],
   "source": [
    "#calculate the offer count for each person by offer id, this will be one of the potential features for modeling\n",
    "offercount=transcript[transcript['event']=='offer received'].groupby(['person','offer_id']).count()['time'].reset_index().rename(columns={'time':'offercount'})"
   ]
  },
  {
   "cell_type": "code",
   "execution_count": 50,
   "metadata": {},
   "outputs": [
    {
     "data": {
      "text/html": [
       "<div>\n",
       "<style scoped>\n",
       "    .dataframe tbody tr th:only-of-type {\n",
       "        vertical-align: middle;\n",
       "    }\n",
       "\n",
       "    .dataframe tbody tr th {\n",
       "        vertical-align: top;\n",
       "    }\n",
       "\n",
       "    .dataframe thead th {\n",
       "        text-align: right;\n",
       "    }\n",
       "</style>\n",
       "<table border=\"1\" class=\"dataframe\">\n",
       "  <thead>\n",
       "    <tr style=\"text-align: right;\">\n",
       "      <th></th>\n",
       "      <th>event</th>\n",
       "      <th>person</th>\n",
       "      <th>time</th>\n",
       "      <th>offer_id</th>\n",
       "      <th>age</th>\n",
       "      <th>became_member_on</th>\n",
       "      <th>gender</th>\n",
       "      <th>income</th>\n",
       "      <th>offercount</th>\n",
       "      <th>difficulty</th>\n",
       "      <th>duration</th>\n",
       "      <th>offer_type</th>\n",
       "      <th>reward</th>\n",
       "      <th>email</th>\n",
       "      <th>web</th>\n",
       "      <th>mobile</th>\n",
       "      <th>social</th>\n",
       "    </tr>\n",
       "  </thead>\n",
       "  <tbody>\n",
       "    <tr>\n",
       "      <th>0</th>\n",
       "      <td>offer received</td>\n",
       "      <td>78afa995795e4d85b5d9ceeca43f5fef</td>\n",
       "      <td>0</td>\n",
       "      <td>9b98b8c7a33c4b65b9aebfe6a799e6d9</td>\n",
       "      <td>75</td>\n",
       "      <td>20170509</td>\n",
       "      <td>F</td>\n",
       "      <td>100000.0</td>\n",
       "      <td>1.0</td>\n",
       "      <td>5.0</td>\n",
       "      <td>7.0</td>\n",
       "      <td>bogo</td>\n",
       "      <td>5.0</td>\n",
       "      <td>1.0</td>\n",
       "      <td>1.0</td>\n",
       "      <td>1.0</td>\n",
       "      <td>0.0</td>\n",
       "    </tr>\n",
       "    <tr>\n",
       "      <th>1</th>\n",
       "      <td>offer received</td>\n",
       "      <td>a03223e636434f42ac4c3df47e8bac43</td>\n",
       "      <td>0</td>\n",
       "      <td>0b1e1539f2cc45b7b9fa7c272da2e1d7</td>\n",
       "      <td>118</td>\n",
       "      <td>20170804</td>\n",
       "      <td>None</td>\n",
       "      <td>NaN</td>\n",
       "      <td>3.0</td>\n",
       "      <td>20.0</td>\n",
       "      <td>10.0</td>\n",
       "      <td>discount</td>\n",
       "      <td>5.0</td>\n",
       "      <td>1.0</td>\n",
       "      <td>1.0</td>\n",
       "      <td>0.0</td>\n",
       "      <td>0.0</td>\n",
       "    </tr>\n",
       "    <tr>\n",
       "      <th>2</th>\n",
       "      <td>offer received</td>\n",
       "      <td>e2127556f4f64592b11af22de27a7932</td>\n",
       "      <td>0</td>\n",
       "      <td>2906b810c7d4411798c6938adc9daaa5</td>\n",
       "      <td>68</td>\n",
       "      <td>20180426</td>\n",
       "      <td>M</td>\n",
       "      <td>70000.0</td>\n",
       "      <td>1.0</td>\n",
       "      <td>10.0</td>\n",
       "      <td>7.0</td>\n",
       "      <td>discount</td>\n",
       "      <td>2.0</td>\n",
       "      <td>1.0</td>\n",
       "      <td>1.0</td>\n",
       "      <td>1.0</td>\n",
       "      <td>0.0</td>\n",
       "    </tr>\n",
       "    <tr>\n",
       "      <th>3</th>\n",
       "      <td>offer received</td>\n",
       "      <td>8ec6ce2a7e7949b1bf142def7d0e0586</td>\n",
       "      <td>0</td>\n",
       "      <td>fafdcd668e3743c1bb461111dcafc2a4</td>\n",
       "      <td>118</td>\n",
       "      <td>20170925</td>\n",
       "      <td>None</td>\n",
       "      <td>NaN</td>\n",
       "      <td>2.0</td>\n",
       "      <td>10.0</td>\n",
       "      <td>10.0</td>\n",
       "      <td>discount</td>\n",
       "      <td>2.0</td>\n",
       "      <td>1.0</td>\n",
       "      <td>1.0</td>\n",
       "      <td>1.0</td>\n",
       "      <td>1.0</td>\n",
       "    </tr>\n",
       "    <tr>\n",
       "      <th>4</th>\n",
       "      <td>offer received</td>\n",
       "      <td>68617ca6246f4fbc85e91a2a49552598</td>\n",
       "      <td>0</td>\n",
       "      <td>4d5c57ea9a6940dd891ad53e9dbe8da0</td>\n",
       "      <td>118</td>\n",
       "      <td>20171002</td>\n",
       "      <td>None</td>\n",
       "      <td>NaN</td>\n",
       "      <td>1.0</td>\n",
       "      <td>10.0</td>\n",
       "      <td>5.0</td>\n",
       "      <td>bogo</td>\n",
       "      <td>10.0</td>\n",
       "      <td>1.0</td>\n",
       "      <td>1.0</td>\n",
       "      <td>1.0</td>\n",
       "      <td>1.0</td>\n",
       "    </tr>\n",
       "  </tbody>\n",
       "</table>\n",
       "</div>"
      ],
      "text/plain": [
       "            event                            person  time  \\\n",
       "0  offer received  78afa995795e4d85b5d9ceeca43f5fef     0   \n",
       "1  offer received  a03223e636434f42ac4c3df47e8bac43     0   \n",
       "2  offer received  e2127556f4f64592b11af22de27a7932     0   \n",
       "3  offer received  8ec6ce2a7e7949b1bf142def7d0e0586     0   \n",
       "4  offer received  68617ca6246f4fbc85e91a2a49552598     0   \n",
       "\n",
       "                           offer_id  age  became_member_on gender    income  \\\n",
       "0  9b98b8c7a33c4b65b9aebfe6a799e6d9   75          20170509      F  100000.0   \n",
       "1  0b1e1539f2cc45b7b9fa7c272da2e1d7  118          20170804   None       NaN   \n",
       "2  2906b810c7d4411798c6938adc9daaa5   68          20180426      M   70000.0   \n",
       "3  fafdcd668e3743c1bb461111dcafc2a4  118          20170925   None       NaN   \n",
       "4  4d5c57ea9a6940dd891ad53e9dbe8da0  118          20171002   None       NaN   \n",
       "\n",
       "   offercount  difficulty  duration offer_type  reward  email  web  mobile  \\\n",
       "0         1.0         5.0       7.0       bogo     5.0    1.0  1.0     1.0   \n",
       "1         3.0        20.0      10.0   discount     5.0    1.0  1.0     0.0   \n",
       "2         1.0        10.0       7.0   discount     2.0    1.0  1.0     1.0   \n",
       "3         2.0        10.0      10.0   discount     2.0    1.0  1.0     1.0   \n",
       "4         1.0        10.0       5.0       bogo    10.0    1.0  1.0     1.0   \n",
       "\n",
       "   social  \n",
       "0     0.0  \n",
       "1     0.0  \n",
       "2     0.0  \n",
       "3     1.0  \n",
       "4     1.0  "
      ]
     },
     "execution_count": 50,
     "metadata": {},
     "output_type": "execute_result"
    }
   ],
   "source": [
    "#merge three datasets together\n",
    "df=transcript.merge(profile,how='left',on=['person'])\n",
    "df=df.merge(offercount,how='left',on=['person','offer_id'])\n",
    "offersAll=df.merge(portfolio,how='left',on=['offer_id'])\n",
    "offersAll.drop(['reward_x'],inplace=True,axis=1)\n",
    "offersAll.rename(columns={'reward_y':'reward'},inplace=True)\n",
    "offersAll.drop(['channels','value','amount'],inplace=True,axis=1)\n",
    "offersAll.head()"
   ]
  },
  {
   "cell_type": "markdown",
   "metadata": {},
   "source": [
    "Convert become_member_on to a feature indicating the tenure of membership, this is a potential feature affecting whether people taking the offer"
   ]
  },
  {
   "cell_type": "code",
   "execution_count": 51,
   "metadata": {},
   "outputs": [
    {
     "data": {
      "text/plain": [
       "20180726"
      ]
     },
     "execution_count": 51,
     "metadata": {},
     "output_type": "execute_result"
    }
   ],
   "source": [
    "offersAll['became_member_on'].max()"
   ]
  },
  {
   "cell_type": "markdown",
   "metadata": {},
   "source": [
    "The lastest becoming member date is 20180726, we assume all data collected on 20180727, it does not matter the data was collected on 20180727 or not, as we will do feature normalization before modeling"
   ]
  },
  {
   "cell_type": "code",
   "execution_count": 52,
   "metadata": {},
   "outputs": [],
   "source": [
    "from datetime import datetime\n",
    "def diffDays(x):\n",
    "    d1 = datetime(2018,7,27)\n",
    "    d2=datetime(year=int(str(x)[0:4]), month=int(str(x)[4:6]), day=int(str(x)[6:8]))\n",
    "    return abs(d1-d2).days\n",
    "offersAll['became_member_days']=offersAll['became_member_on'].apply(lambda x: diffDays(x))"
   ]
  },
  {
   "cell_type": "code",
   "execution_count": 110,
   "metadata": {},
   "outputs": [],
   "source": [
    "#pull event offer received info, only considering people with valid gender\n",
    "offer_receive=offersAll[offersAll['event']=='offer received'][['person','age','gender','became_member_days','income','offer_id','time','offer_type','duration','difficulty','reward','web','email','mobile','social','offercount']]\n",
    "offer_receive=offer_receive[offer_receive['gender'].isin(['F','M'])]\n",
    "offer_receive['expiration']=offer_receive['duration']*24+offer_receive['time']"
   ]
  },
  {
   "cell_type": "code",
   "execution_count": 54,
   "metadata": {},
   "outputs": [],
   "source": [
    "#pull event offer viewed info\n",
    "offer_view=offersAll[offersAll['event']=='offer viewed'][['person','age','gender','became_member_days','income','offer_id','time','offer_type','duration','difficulty','reward','web','email','mobile','social','offercount']]"
   ]
  },
  {
   "cell_type": "code",
   "execution_count": 56,
   "metadata": {},
   "outputs": [],
   "source": [
    "#pull event offer completed info\n",
    "offer_complete=offersAll[offersAll['event']=='offer completed'][['person','age','gender','became_member_days','income','offer_id','time','offer_type','duration','difficulty','reward','web','email','mobile','social','offercount']]"
   ]
  },
  {
   "cell_type": "code",
   "execution_count": 58,
   "metadata": {},
   "outputs": [],
   "source": [
    "#pull event transaction info\n",
    "transaction=offersAll[['person','time']][offersAll['event']=='transaction']"
   ]
  },
  {
   "cell_type": "markdown",
   "metadata": {},
   "source": [
    "Identify all effective offers"
   ]
  },
  {
   "cell_type": "code",
   "execution_count": 61,
   "metadata": {},
   "outputs": [
    {
     "data": {
      "text/html": [
       "<div>\n",
       "<style scoped>\n",
       "    .dataframe tbody tr th:only-of-type {\n",
       "        vertical-align: middle;\n",
       "    }\n",
       "\n",
       "    .dataframe tbody tr th {\n",
       "        vertical-align: top;\n",
       "    }\n",
       "\n",
       "    .dataframe thead th {\n",
       "        text-align: right;\n",
       "    }\n",
       "</style>\n",
       "<table border=\"1\" class=\"dataframe\">\n",
       "  <thead>\n",
       "    <tr style=\"text-align: right;\">\n",
       "      <th></th>\n",
       "      <th>person</th>\n",
       "      <th>age_x</th>\n",
       "      <th>gender_x</th>\n",
       "      <th>became_member_days_x</th>\n",
       "      <th>income_x</th>\n",
       "      <th>offer_id</th>\n",
       "      <th>offer_type_x</th>\n",
       "      <th>duration_x</th>\n",
       "      <th>difficulty_x</th>\n",
       "      <th>reward_x</th>\n",
       "      <th>web_x</th>\n",
       "      <th>email_x</th>\n",
       "      <th>mobile_x</th>\n",
       "      <th>social_x</th>\n",
       "      <th>time_x</th>\n",
       "      <th>expiration</th>\n",
       "      <th>time_y</th>\n",
       "      <th>time</th>\n",
       "      <th>offercount_x</th>\n",
       "    </tr>\n",
       "  </thead>\n",
       "  <tbody>\n",
       "    <tr>\n",
       "      <th>0</th>\n",
       "      <td>78afa995795e4d85b5d9ceeca43f5fef</td>\n",
       "      <td>75</td>\n",
       "      <td>F</td>\n",
       "      <td>444</td>\n",
       "      <td>100000.0</td>\n",
       "      <td>9b98b8c7a33c4b65b9aebfe6a799e6d9</td>\n",
       "      <td>bogo</td>\n",
       "      <td>7.0</td>\n",
       "      <td>5.0</td>\n",
       "      <td>5.0</td>\n",
       "      <td>1.0</td>\n",
       "      <td>1.0</td>\n",
       "      <td>1.0</td>\n",
       "      <td>0.0</td>\n",
       "      <td>0</td>\n",
       "      <td>168.0</td>\n",
       "      <td>6.0</td>\n",
       "      <td>132.0</td>\n",
       "      <td>1.0</td>\n",
       "    </tr>\n",
       "    <tr>\n",
       "      <th>2</th>\n",
       "      <td>389bc3fa690240e798340f5a15918d5c</td>\n",
       "      <td>65</td>\n",
       "      <td>M</td>\n",
       "      <td>168</td>\n",
       "      <td>53000.0</td>\n",
       "      <td>f19421c1d4aa40978ebb69ca19b0e20d</td>\n",
       "      <td>bogo</td>\n",
       "      <td>5.0</td>\n",
       "      <td>5.0</td>\n",
       "      <td>5.0</td>\n",
       "      <td>1.0</td>\n",
       "      <td>1.0</td>\n",
       "      <td>1.0</td>\n",
       "      <td>1.0</td>\n",
       "      <td>0</td>\n",
       "      <td>120.0</td>\n",
       "      <td>0.0</td>\n",
       "      <td>60.0</td>\n",
       "      <td>2.0</td>\n",
       "    </tr>\n",
       "    <tr>\n",
       "      <th>13</th>\n",
       "      <td>d53717f5400c4e84affdaeda9dd926b3</td>\n",
       "      <td>88</td>\n",
       "      <td>F</td>\n",
       "      <td>435</td>\n",
       "      <td>53000.0</td>\n",
       "      <td>0b1e1539f2cc45b7b9fa7c272da2e1d7</td>\n",
       "      <td>discount</td>\n",
       "      <td>10.0</td>\n",
       "      <td>20.0</td>\n",
       "      <td>5.0</td>\n",
       "      <td>1.0</td>\n",
       "      <td>1.0</td>\n",
       "      <td>0.0</td>\n",
       "      <td>0.0</td>\n",
       "      <td>0</td>\n",
       "      <td>240.0</td>\n",
       "      <td>30.0</td>\n",
       "      <td>30.0</td>\n",
       "      <td>2.0</td>\n",
       "    </tr>\n",
       "    <tr>\n",
       "      <th>17</th>\n",
       "      <td>f806632c011441378d4646567f357a21</td>\n",
       "      <td>42</td>\n",
       "      <td>M</td>\n",
       "      <td>1811</td>\n",
       "      <td>69000.0</td>\n",
       "      <td>fafdcd668e3743c1bb461111dcafc2a4</td>\n",
       "      <td>discount</td>\n",
       "      <td>10.0</td>\n",
       "      <td>10.0</td>\n",
       "      <td>2.0</td>\n",
       "      <td>1.0</td>\n",
       "      <td>1.0</td>\n",
       "      <td>1.0</td>\n",
       "      <td>1.0</td>\n",
       "      <td>0</td>\n",
       "      <td>240.0</td>\n",
       "      <td>18.0</td>\n",
       "      <td>126.0</td>\n",
       "      <td>2.0</td>\n",
       "    </tr>\n",
       "    <tr>\n",
       "      <th>21</th>\n",
       "      <td>d058f73bf8674a26a95227db098147b1</td>\n",
       "      <td>56</td>\n",
       "      <td>F</td>\n",
       "      <td>90</td>\n",
       "      <td>88000.0</td>\n",
       "      <td>0b1e1539f2cc45b7b9fa7c272da2e1d7</td>\n",
       "      <td>discount</td>\n",
       "      <td>10.0</td>\n",
       "      <td>20.0</td>\n",
       "      <td>5.0</td>\n",
       "      <td>1.0</td>\n",
       "      <td>1.0</td>\n",
       "      <td>0.0</td>\n",
       "      <td>0.0</td>\n",
       "      <td>0</td>\n",
       "      <td>240.0</td>\n",
       "      <td>30.0</td>\n",
       "      <td>192.0</td>\n",
       "      <td>2.0</td>\n",
       "    </tr>\n",
       "  </tbody>\n",
       "</table>\n",
       "</div>"
      ],
      "text/plain": [
       "                              person  age_x gender_x  became_member_days_x  \\\n",
       "0   78afa995795e4d85b5d9ceeca43f5fef     75        F                   444   \n",
       "2   389bc3fa690240e798340f5a15918d5c     65        M                   168   \n",
       "13  d53717f5400c4e84affdaeda9dd926b3     88        F                   435   \n",
       "17  f806632c011441378d4646567f357a21     42        M                  1811   \n",
       "21  d058f73bf8674a26a95227db098147b1     56        F                    90   \n",
       "\n",
       "    income_x                          offer_id offer_type_x  duration_x  \\\n",
       "0   100000.0  9b98b8c7a33c4b65b9aebfe6a799e6d9         bogo         7.0   \n",
       "2    53000.0  f19421c1d4aa40978ebb69ca19b0e20d         bogo         5.0   \n",
       "13   53000.0  0b1e1539f2cc45b7b9fa7c272da2e1d7     discount        10.0   \n",
       "17   69000.0  fafdcd668e3743c1bb461111dcafc2a4     discount        10.0   \n",
       "21   88000.0  0b1e1539f2cc45b7b9fa7c272da2e1d7     discount        10.0   \n",
       "\n",
       "    difficulty_x  reward_x  web_x  email_x  mobile_x  social_x  time_x  \\\n",
       "0            5.0       5.0    1.0      1.0       1.0       0.0       0   \n",
       "2            5.0       5.0    1.0      1.0       1.0       1.0       0   \n",
       "13          20.0       5.0    1.0      1.0       0.0       0.0       0   \n",
       "17          10.0       2.0    1.0      1.0       1.0       1.0       0   \n",
       "21          20.0       5.0    1.0      1.0       0.0       0.0       0   \n",
       "\n",
       "    expiration  time_y   time  offercount_x  \n",
       "0        168.0     6.0  132.0           1.0  \n",
       "2        120.0     0.0   60.0           2.0  \n",
       "13       240.0    30.0   30.0           2.0  \n",
       "17       240.0    18.0  126.0           2.0  \n",
       "21       240.0    30.0  192.0           2.0  "
      ]
     },
     "execution_count": 61,
     "metadata": {},
     "output_type": "execute_result"
    }
   ],
   "source": [
    "#Idenfity BOGO and Discount effective offers\n",
    "offer_recview=offer_receive.merge(offer_view,how='left',on=['person','offer_id'])[['person','age_x','gender_x','became_member_days_x','income_x','offer_id','offer_type_x','duration_x','difficulty_x','reward_x','web_x','email_x','mobile_x','social_x','time_x','expiration','time_y','offercount_x']]\n",
    "offer_recviecom=offer_recview.merge(offer_complete,how='left',on=['person','offer_id'])[['person','age_x','gender_x','became_member_days_x','income_x','offer_id','offer_type_x','duration_x','difficulty_x','reward_x','web_x','email_x','mobile_x','social_x','time_x','expiration','time_y','time','offercount_x']]\n",
    "offer_respond=offer_recviecom[(offer_recviecom['time_x']<=offer_recviecom['time_y'])&(offer_recviecom['time_y']<=offer_recviecom['time'])&(offer_recviecom['time']<=offer_recviecom['expiration'])]\n",
    "offer_respond.head()"
   ]
  },
  {
   "cell_type": "code",
   "execution_count": 62,
   "metadata": {},
   "outputs": [
    {
     "data": {
      "text/html": [
       "<div>\n",
       "<style scoped>\n",
       "    .dataframe tbody tr th:only-of-type {\n",
       "        vertical-align: middle;\n",
       "    }\n",
       "\n",
       "    .dataframe tbody tr th {\n",
       "        vertical-align: top;\n",
       "    }\n",
       "\n",
       "    .dataframe thead th {\n",
       "        text-align: right;\n",
       "    }\n",
       "</style>\n",
       "<table border=\"1\" class=\"dataframe\">\n",
       "  <thead>\n",
       "    <tr style=\"text-align: right;\">\n",
       "      <th></th>\n",
       "      <th>person</th>\n",
       "      <th>age</th>\n",
       "      <th>gender</th>\n",
       "      <th>became_member_days</th>\n",
       "      <th>income</th>\n",
       "      <th>offer_id</th>\n",
       "      <th>time_x</th>\n",
       "      <th>offer_type</th>\n",
       "      <th>duration</th>\n",
       "      <th>difficulty</th>\n",
       "      <th>reward</th>\n",
       "      <th>web</th>\n",
       "      <th>email</th>\n",
       "      <th>mobile</th>\n",
       "      <th>social</th>\n",
       "      <th>offercount</th>\n",
       "      <th>expiration</th>\n",
       "      <th>time_y</th>\n",
       "    </tr>\n",
       "  </thead>\n",
       "  <tbody>\n",
       "    <tr>\n",
       "      <th>4</th>\n",
       "      <td>c27e0d6ab72c455a8bb66d980963de60</td>\n",
       "      <td>78</td>\n",
       "      <td>F</td>\n",
       "      <td>406</td>\n",
       "      <td>71000.0</td>\n",
       "      <td>3f207df678b143eea3cee63160fa8bed</td>\n",
       "      <td>0</td>\n",
       "      <td>informational</td>\n",
       "      <td>4.0</td>\n",
       "      <td>0.0</td>\n",
       "      <td>0.0</td>\n",
       "      <td>1.0</td>\n",
       "      <td>1.0</td>\n",
       "      <td>1.0</td>\n",
       "      <td>0.0</td>\n",
       "      <td>2.0</td>\n",
       "      <td>96.0</td>\n",
       "      <td>18.0</td>\n",
       "    </tr>\n",
       "    <tr>\n",
       "      <th>5</th>\n",
       "      <td>c27e0d6ab72c455a8bb66d980963de60</td>\n",
       "      <td>78</td>\n",
       "      <td>F</td>\n",
       "      <td>406</td>\n",
       "      <td>71000.0</td>\n",
       "      <td>3f207df678b143eea3cee63160fa8bed</td>\n",
       "      <td>0</td>\n",
       "      <td>informational</td>\n",
       "      <td>4.0</td>\n",
       "      <td>0.0</td>\n",
       "      <td>0.0</td>\n",
       "      <td>1.0</td>\n",
       "      <td>1.0</td>\n",
       "      <td>1.0</td>\n",
       "      <td>0.0</td>\n",
       "      <td>2.0</td>\n",
       "      <td>96.0</td>\n",
       "      <td>72.0</td>\n",
       "    </tr>\n",
       "    <tr>\n",
       "      <th>12</th>\n",
       "      <td>be8a5d1981a2458d90b255ddc7e0d174</td>\n",
       "      <td>39</td>\n",
       "      <td>M</td>\n",
       "      <td>1522</td>\n",
       "      <td>51000.0</td>\n",
       "      <td>5a8bc65990b245e5a138643cd4eb9837</td>\n",
       "      <td>0</td>\n",
       "      <td>informational</td>\n",
       "      <td>3.0</td>\n",
       "      <td>0.0</td>\n",
       "      <td>0.0</td>\n",
       "      <td>0.0</td>\n",
       "      <td>1.0</td>\n",
       "      <td>1.0</td>\n",
       "      <td>1.0</td>\n",
       "      <td>1.0</td>\n",
       "      <td>72.0</td>\n",
       "      <td>6.0</td>\n",
       "    </tr>\n",
       "    <tr>\n",
       "      <th>13</th>\n",
       "      <td>be8a5d1981a2458d90b255ddc7e0d174</td>\n",
       "      <td>39</td>\n",
       "      <td>M</td>\n",
       "      <td>1522</td>\n",
       "      <td>51000.0</td>\n",
       "      <td>5a8bc65990b245e5a138643cd4eb9837</td>\n",
       "      <td>0</td>\n",
       "      <td>informational</td>\n",
       "      <td>3.0</td>\n",
       "      <td>0.0</td>\n",
       "      <td>0.0</td>\n",
       "      <td>0.0</td>\n",
       "      <td>1.0</td>\n",
       "      <td>1.0</td>\n",
       "      <td>1.0</td>\n",
       "      <td>1.0</td>\n",
       "      <td>72.0</td>\n",
       "      <td>24.0</td>\n",
       "    </tr>\n",
       "    <tr>\n",
       "      <th>14</th>\n",
       "      <td>be8a5d1981a2458d90b255ddc7e0d174</td>\n",
       "      <td>39</td>\n",
       "      <td>M</td>\n",
       "      <td>1522</td>\n",
       "      <td>51000.0</td>\n",
       "      <td>5a8bc65990b245e5a138643cd4eb9837</td>\n",
       "      <td>0</td>\n",
       "      <td>informational</td>\n",
       "      <td>3.0</td>\n",
       "      <td>0.0</td>\n",
       "      <td>0.0</td>\n",
       "      <td>0.0</td>\n",
       "      <td>1.0</td>\n",
       "      <td>1.0</td>\n",
       "      <td>1.0</td>\n",
       "      <td>1.0</td>\n",
       "      <td>72.0</td>\n",
       "      <td>30.0</td>\n",
       "    </tr>\n",
       "  </tbody>\n",
       "</table>\n",
       "</div>"
      ],
      "text/plain": [
       "                              person  age gender  became_member_days   income  \\\n",
       "4   c27e0d6ab72c455a8bb66d980963de60   78      F                 406  71000.0   \n",
       "5   c27e0d6ab72c455a8bb66d980963de60   78      F                 406  71000.0   \n",
       "12  be8a5d1981a2458d90b255ddc7e0d174   39      M                1522  51000.0   \n",
       "13  be8a5d1981a2458d90b255ddc7e0d174   39      M                1522  51000.0   \n",
       "14  be8a5d1981a2458d90b255ddc7e0d174   39      M                1522  51000.0   \n",
       "\n",
       "                            offer_id  time_x     offer_type  duration  \\\n",
       "4   3f207df678b143eea3cee63160fa8bed       0  informational       4.0   \n",
       "5   3f207df678b143eea3cee63160fa8bed       0  informational       4.0   \n",
       "12  5a8bc65990b245e5a138643cd4eb9837       0  informational       3.0   \n",
       "13  5a8bc65990b245e5a138643cd4eb9837       0  informational       3.0   \n",
       "14  5a8bc65990b245e5a138643cd4eb9837       0  informational       3.0   \n",
       "\n",
       "    difficulty  reward  web  email  mobile  social  offercount  expiration  \\\n",
       "4          0.0     0.0  1.0    1.0     1.0     0.0         2.0        96.0   \n",
       "5          0.0     0.0  1.0    1.0     1.0     0.0         2.0        96.0   \n",
       "12         0.0     0.0  0.0    1.0     1.0     1.0         1.0        72.0   \n",
       "13         0.0     0.0  0.0    1.0     1.0     1.0         1.0        72.0   \n",
       "14         0.0     0.0  0.0    1.0     1.0     1.0         1.0        72.0   \n",
       "\n",
       "    time_y  \n",
       "4     18.0  \n",
       "5     72.0  \n",
       "12     6.0  \n",
       "13    24.0  \n",
       "14    30.0  "
      ]
     },
     "execution_count": 62,
     "metadata": {},
     "output_type": "execute_result"
    }
   ],
   "source": [
    "#Identify Informational effective offers\n",
    "offer_receive_info=offer_receive[offer_receive['offer_type']=='informational']\n",
    "transaction_info=offer_receive_info.merge(transaction,how='left',on=['person'])\n",
    "infoffer_res=transaction_info[(transaction_info['time_x']<=transaction_info['time_y'])&(transaction_info['time_y']<=transaction_info['expiration'])]\n",
    "infoffer_res.head()"
   ]
  },
  {
   "cell_type": "code",
   "execution_count": 145,
   "metadata": {},
   "outputs": [],
   "source": [
    "# Extract feaure values for people responsive to the BOGO offer\n",
    "Res_Bogo=offer_respond[offer_respond['offer_type_x']=='bogo'][['age_x','gender_x','income_x','person','became_member_days_x','offercount_x','duration_x','difficulty_x','reward_x','web_x','email_x','mobile_x','social_x','offer_type_x']]\n",
    "Res_Bogo['response']=1"
   ]
  },
  {
   "cell_type": "code",
   "execution_count": 146,
   "metadata": {},
   "outputs": [],
   "source": [
    "# Extract feaure values for people responsive to the Discount offer\n",
    "Res_discount=offer_respond[offer_respond['offer_type_x']=='discount'][['age_x','gender_x','income_x','person','became_member_days_x','offercount_x','duration_x','difficulty_x','reward_x','web_x','email_x','mobile_x','social_x','offer_type_x']]\n",
    "Res_discount['response']=1"
   ]
  },
  {
   "cell_type": "code",
   "execution_count": 147,
   "metadata": {},
   "outputs": [],
   "source": [
    "# Extract feaure values for people responsive to the Informational offer\n",
    "Res_info=infoffer_res[['age','gender','income','person','became_member_days','offercount','duration','difficulty','reward','web','email','mobile','social','offer_type']]\n",
    "Res_info['response']=1"
   ]
  },
  {
   "cell_type": "markdown",
   "metadata": {},
   "source": [
    "A person could receive the same type of offer several times, if the person takes the offer once, we would assume this person is responsive to the offer type"
   ]
  },
  {
   "cell_type": "code",
   "execution_count": 149,
   "metadata": {},
   "outputs": [],
   "source": [
    "# Extract feaure values for people not responsive to BOGO offer\n",
    "Res_Bogo_PersID=offer_respond[offer_respond['offer_type_x']=='bogo']['person'].tolist()\n",
    "NonRes_Bogo=offer_receive[~offer_receive['person'].isin(Res_Bogo_PersID)][offer_receive['offer_type']=='bogo'][['age','gender','income','person','became_member_days','offercount','duration','difficulty','reward','web','email','mobile','social','offer_type']]\n",
    "NonRes_Bogo['response']=0"
   ]
  },
  {
   "cell_type": "code",
   "execution_count": 150,
   "metadata": {},
   "outputs": [],
   "source": [
    "# Extract feaure values for people not responsive to Discount offer\n",
    "Res_discount_PersID=offer_respond[offer_respond['offer_type_x']=='discount']['person'].tolist()\n",
    "NonRes_discount=offer_receive[~offer_receive['person'].isin(Res_discount_PersID)][offer_receive['offer_type']=='discount'][['age','gender','income','person','became_member_days','offercount','duration','difficulty','reward','web','email','mobile','social','offer_type']]\n",
    "NonRes_discount['response']=0"
   ]
  },
  {
   "cell_type": "code",
   "execution_count": 151,
   "metadata": {},
   "outputs": [],
   "source": [
    "# Extract feaure values for people not responsive to Informational offer\n",
    "Res_info_PersID=infoffer_res['person'].tolist()\n",
    "NonRes_info=offer_receive_info[~offer_receive_info['person'].isin(Res_info_PersID)][['age','gender','income','person','became_member_days','offercount','duration','difficulty','reward','web','email','mobile','social','offer_type']]\n",
    "NonRes_info['response']=0"
   ]
  },
  {
   "cell_type": "code",
   "execution_count": 152,
   "metadata": {},
   "outputs": [],
   "source": [
    "#rename feature names for BOGO and Discount \n",
    "Res_Bogo.rename(columns={'age_x':'age','gender_x':'gender','income_x':'income','became_member_days_x':'became_member_days','offercount_x':'offercount','duration_x':'duration','difficulty_x':'difficulty','reward_x':'reward','web_x':'web','email_x':'email','mobile_x':'mobile','social_x':'social','offer_type_x':'offer_type'},inplace=True)\n",
    "Res_discount.rename(columns={'age_x':'age','gender_x':'gender','income_x':'income','became_member_days_x':'became_member_days','offercount_x':'offercount','duration_x':'duration','difficulty_x':'difficulty','reward_x':'reward','web_x':'web','email_x':'email','mobile_x':'mobile','social_x':'social','offer_type_x':'offer_type'},inplace=True)"
   ]
  },
  {
   "cell_type": "code",
   "execution_count": 153,
   "metadata": {},
   "outputs": [],
   "source": [
    "#drop duplicates for Bogo Offer\n",
    "Res_Bogo.drop_duplicates(keep='first',inplace=True)\n",
    "NonRes_Bogo.drop_duplicates(keep='first',inplace=True)"
   ]
  },
  {
   "cell_type": "code",
   "execution_count": 154,
   "metadata": {},
   "outputs": [],
   "source": [
    "#drop duplicates for Discount Offer\n",
    "Res_discount.drop_duplicates(keep='first',inplace=True)\n",
    "NonRes_discount.drop_duplicates(keep='first',inplace=True)"
   ]
  },
  {
   "cell_type": "code",
   "execution_count": 155,
   "metadata": {},
   "outputs": [],
   "source": [
    "#drop duplicates for Informational Offer\n",
    "Res_info.drop_duplicates(keep='first',inplace=True)\n",
    "NonRes_info.drop_duplicates(keep='first',inplace=True)"
   ]
  },
  {
   "cell_type": "code",
   "execution_count": 156,
   "metadata": {},
   "outputs": [
    {
     "data": {
      "text/plain": [
       "(9473, 15)"
      ]
     },
     "execution_count": 156,
     "metadata": {},
     "output_type": "execute_result"
    }
   ],
   "source": [
    "#check the responsive and non-responsive data size for BOGO offer, to see if there is imbalanced data issue\n",
    "Res_Bogo.shape"
   ]
  },
  {
   "cell_type": "code",
   "execution_count": 157,
   "metadata": {},
   "outputs": [
    {
     "data": {
      "text/plain": [
       "(8867, 15)"
      ]
     },
     "execution_count": 157,
     "metadata": {},
     "output_type": "execute_result"
    }
   ],
   "source": [
    "NonRes_Bogo.shape"
   ]
  },
  {
   "cell_type": "code",
   "execution_count": 158,
   "metadata": {},
   "outputs": [
    {
     "data": {
      "text/plain": [
       "(10365, 15)"
      ]
     },
     "execution_count": 158,
     "metadata": {},
     "output_type": "execute_result"
    }
   ],
   "source": [
    "#check the responsive and non-responsive data size for discount offer, to see if there is imbalanced data issue\n",
    "Res_discount.shape"
   ]
  },
  {
   "cell_type": "code",
   "execution_count": 159,
   "metadata": {},
   "outputs": [
    {
     "data": {
      "text/plain": [
       "(7351, 15)"
      ]
     },
     "execution_count": 159,
     "metadata": {},
     "output_type": "execute_result"
    }
   ],
   "source": [
    "NonRes_discount.shape"
   ]
  },
  {
   "cell_type": "code",
   "execution_count": 160,
   "metadata": {},
   "outputs": [
    {
     "data": {
      "text/plain": [
       "(7299, 15)"
      ]
     },
     "execution_count": 160,
     "metadata": {},
     "output_type": "execute_result"
    }
   ],
   "source": [
    "#check the responsive and non-responsive data size for Informational offer, to see if there is imbalanced data issue\n",
    "Res_info.shape"
   ]
  },
  {
   "cell_type": "code",
   "execution_count": 161,
   "metadata": {},
   "outputs": [
    {
     "data": {
      "text/plain": [
       "(2876, 15)"
      ]
     },
     "execution_count": 161,
     "metadata": {},
     "output_type": "execute_result"
    }
   ],
   "source": [
    "NonRes_info.shape"
   ]
  },
  {
   "cell_type": "markdown",
   "metadata": {},
   "source": [
    "There is no imbalance data issue for all three types"
   ]
  },
  {
   "cell_type": "code",
   "execution_count": 162,
   "metadata": {},
   "outputs": [
    {
     "data": {
      "text/plain": [
       "1.0"
      ]
     },
     "execution_count": 162,
     "metadata": {},
     "output_type": "execute_result"
    }
   ],
   "source": [
    "#Concat nonresponsive and responsive data together for BOGO offer\n",
    "Matrix_AllBogo=pd.concat([Res_Bogo,NonRes_Bogo])\n",
    "Matrix_AllBogo['social'].mean()\n",
    "Matrix_AllBogo['web'].mean()\n",
    "Matrix_AllBogo['mobile'].mean()\n",
    "#channel email is always 1 for BOGO offer, need remove it from analysis as it does not provide any distinguishing information\n",
    "Matrix_AllBogo['email'].mean()"
   ]
  },
  {
   "cell_type": "code",
   "execution_count": 163,
   "metadata": {},
   "outputs": [
    {
     "data": {
      "text/plain": [
       "1.0"
      ]
     },
     "execution_count": 163,
     "metadata": {},
     "output_type": "execute_result"
    }
   ],
   "source": [
    "Matrix_Alldiscount=pd.concat([Res_discount,NonRes_discount])\n",
    "Matrix_Alldiscount['mobile'].mean()\n",
    "Matrix_Alldiscount['social'].mean()\n",
    "Matrix_Alldiscount['web'].mean()\n",
    "#channel email is always 1 for Discount offer, need remove it from analysis as it does not provide any distinguishing information\n",
    "Matrix_Alldiscount['email'].mean()"
   ]
  },
  {
   "cell_type": "code",
   "execution_count": 164,
   "metadata": {},
   "outputs": [
    {
     "data": {
      "text/plain": [
       "1.0"
      ]
     },
     "execution_count": 164,
     "metadata": {},
     "output_type": "execute_result"
    }
   ],
   "source": [
    "Matrix_Allinfo=pd.concat([Res_info,NonRes_info])\n",
    "Matrix_Allinfo['social'].mean()\n",
    "Matrix_Allinfo['web'].mean()\n",
    "#channel email and mobile is always 1 for Informational offer, need remove it from analysis as it does not provide any distinguishing information\n",
    "Matrix_Allinfo['mobile'].mean()\n",
    "Matrix_Allinfo['email'].mean()"
   ]
  },
  {
   "cell_type": "code",
   "execution_count": 165,
   "metadata": {},
   "outputs": [],
   "source": [
    "#generate dummy variable for gender, and remove channel email for BOGO offer\n",
    "gender_DummyBogo=pd.get_dummies(Matrix_AllBogo['gender'],drop_first=True).rename(columns={'M':'genderM'})\n",
    "Matrix_AllBogo=pd.concat([Matrix_AllBogo.drop(['email'],axis=1),gender_DummyBogo],axis=1)\n",
    "del Matrix_AllBogo['gender']"
   ]
  },
  {
   "cell_type": "code",
   "execution_count": 166,
   "metadata": {},
   "outputs": [],
   "source": [
    "#generate dummy variable for gender, and remove channel email for Discount offer\n",
    "gender_Dummydiscount=pd.get_dummies(Matrix_Alldiscount['gender'],drop_first=True).rename(columns={'M':'genderM'})\n",
    "Matrix_Alldiscount=pd.concat([Matrix_Alldiscount.drop(['email'],axis=1),gender_Dummydiscount],axis=1)\n",
    "del Matrix_Alldiscount['gender']"
   ]
  },
  {
   "cell_type": "code",
   "execution_count": 167,
   "metadata": {},
   "outputs": [],
   "source": [
    "#generate dummy variable for gender, and remove channel email for informational offer\n",
    "gender_Dummyinfo=pd.get_dummies(Matrix_Allinfo['gender'],drop_first=True).rename(columns={'M':'genderM'})\n",
    "Matrix_Allinfo=pd.concat([Matrix_Allinfo.drop(['email','mobile'],axis=1),gender_Dummyinfo],axis=1)\n",
    "del Matrix_Allinfo['gender']"
   ]
  },
  {
   "cell_type": "markdown",
   "metadata": {},
   "source": [
    "## Implementation"
   ]
  },
  {
   "cell_type": "markdown",
   "metadata": {},
   "source": [
    "#### Modeling for BOGO offer"
   ]
  },
  {
   "cell_type": "code",
   "execution_count": 427,
   "metadata": {},
   "outputs": [],
   "source": [
    "X=Matrix_AllBogo[['age','genderM','income','became_member_days','offercount','duration','difficulty','reward','social','web','mobile']]\n",
    "Y=Matrix_AllBogo[['response']]"
   ]
  },
  {
   "cell_type": "code",
   "execution_count": 428,
   "metadata": {},
   "outputs": [
    {
     "data": {
      "text/html": [
       "<div>\n",
       "<style scoped>\n",
       "    .dataframe tbody tr th:only-of-type {\n",
       "        vertical-align: middle;\n",
       "    }\n",
       "\n",
       "    .dataframe tbody tr th {\n",
       "        vertical-align: top;\n",
       "    }\n",
       "\n",
       "    .dataframe thead th {\n",
       "        text-align: right;\n",
       "    }\n",
       "</style>\n",
       "<table border=\"1\" class=\"dataframe\">\n",
       "  <thead>\n",
       "    <tr style=\"text-align: right;\">\n",
       "      <th></th>\n",
       "      <th>age</th>\n",
       "      <th>genderM</th>\n",
       "      <th>income</th>\n",
       "      <th>became_member_days</th>\n",
       "      <th>offercount</th>\n",
       "      <th>duration</th>\n",
       "      <th>difficulty</th>\n",
       "      <th>reward</th>\n",
       "      <th>social</th>\n",
       "      <th>web</th>\n",
       "      <th>mobile</th>\n",
       "    </tr>\n",
       "  </thead>\n",
       "  <tbody>\n",
       "    <tr>\n",
       "      <th>0</th>\n",
       "      <td>75</td>\n",
       "      <td>0</td>\n",
       "      <td>100000.0</td>\n",
       "      <td>444</td>\n",
       "      <td>1.0</td>\n",
       "      <td>7.0</td>\n",
       "      <td>5.0</td>\n",
       "      <td>5.0</td>\n",
       "      <td>0.0</td>\n",
       "      <td>1.0</td>\n",
       "      <td>1.0</td>\n",
       "    </tr>\n",
       "    <tr>\n",
       "      <th>2</th>\n",
       "      <td>65</td>\n",
       "      <td>1</td>\n",
       "      <td>53000.0</td>\n",
       "      <td>168</td>\n",
       "      <td>2.0</td>\n",
       "      <td>5.0</td>\n",
       "      <td>5.0</td>\n",
       "      <td>5.0</td>\n",
       "      <td>1.0</td>\n",
       "      <td>1.0</td>\n",
       "      <td>1.0</td>\n",
       "    </tr>\n",
       "    <tr>\n",
       "      <th>29</th>\n",
       "      <td>69</td>\n",
       "      <td>0</td>\n",
       "      <td>57000.0</td>\n",
       "      <td>712</td>\n",
       "      <td>1.0</td>\n",
       "      <td>5.0</td>\n",
       "      <td>10.0</td>\n",
       "      <td>10.0</td>\n",
       "      <td>1.0</td>\n",
       "      <td>1.0</td>\n",
       "      <td>1.0</td>\n",
       "    </tr>\n",
       "    <tr>\n",
       "      <th>31</th>\n",
       "      <td>75</td>\n",
       "      <td>1</td>\n",
       "      <td>40000.0</td>\n",
       "      <td>988</td>\n",
       "      <td>1.0</td>\n",
       "      <td>5.0</td>\n",
       "      <td>5.0</td>\n",
       "      <td>5.0</td>\n",
       "      <td>1.0</td>\n",
       "      <td>1.0</td>\n",
       "      <td>1.0</td>\n",
       "    </tr>\n",
       "    <tr>\n",
       "      <th>33</th>\n",
       "      <td>45</td>\n",
       "      <td>1</td>\n",
       "      <td>33000.0</td>\n",
       "      <td>20</td>\n",
       "      <td>1.0</td>\n",
       "      <td>7.0</td>\n",
       "      <td>5.0</td>\n",
       "      <td>5.0</td>\n",
       "      <td>0.0</td>\n",
       "      <td>1.0</td>\n",
       "      <td>1.0</td>\n",
       "    </tr>\n",
       "  </tbody>\n",
       "</table>\n",
       "</div>"
      ],
      "text/plain": [
       "    age  genderM    income  became_member_days  offercount  duration  \\\n",
       "0    75        0  100000.0                 444         1.0       7.0   \n",
       "2    65        1   53000.0                 168         2.0       5.0   \n",
       "29   69        0   57000.0                 712         1.0       5.0   \n",
       "31   75        1   40000.0                 988         1.0       5.0   \n",
       "33   45        1   33000.0                  20         1.0       7.0   \n",
       "\n",
       "    difficulty  reward  social  web  mobile  \n",
       "0          5.0     5.0     0.0  1.0     1.0  \n",
       "2          5.0     5.0     1.0  1.0     1.0  \n",
       "29        10.0    10.0     1.0  1.0     1.0  \n",
       "31         5.0     5.0     1.0  1.0     1.0  \n",
       "33         5.0     5.0     0.0  1.0     1.0  "
      ]
     },
     "execution_count": 428,
     "metadata": {},
     "output_type": "execute_result"
    }
   ],
   "source": [
    "X.head()"
   ]
  },
  {
   "cell_type": "markdown",
   "metadata": {},
   "source": [
    "The scale for features are different, need to make the scale to be the same as we are going to try some algos that is sensitive to scale, for example KNN"
   ]
  },
  {
   "cell_type": "code",
   "execution_count": 429,
   "metadata": {},
   "outputs": [],
   "source": [
    "from sklearn.preprocessing import MinMaxScaler\n",
    "transformer=MinMaxScaler().fit(Matrix_AllBogo[['age','income','response','genderM','became_member_days','offercount','duration','difficulty','reward','social','mobile','web']])\n",
    "Norm_AllBogo=pd.DataFrame(transformer.transform(Matrix_AllBogo[['age','income','response','genderM','became_member_days','offercount','duration','difficulty','reward','social','mobile','web']]),columns=[['age','income','response','genderM','became_member_days','offercount','duration','difficulty','reward','social','mobile','web']])"
   ]
  },
  {
   "cell_type": "code",
   "execution_count": 430,
   "metadata": {},
   "outputs": [],
   "source": [
    "#make the responsive variable as int\n",
    "Norm_AllBogo['response']=Norm_AllBogo['response'].astype(int)"
   ]
  },
  {
   "cell_type": "code",
   "execution_count": 431,
   "metadata": {},
   "outputs": [],
   "source": [
    "X=Norm_AllBogo[['age','genderM','income','became_member_days','offercount','duration','difficulty','reward','social','mobile','web']]\n",
    "Y=Norm_AllBogo[['response']]"
   ]
  },
  {
   "cell_type": "code",
   "execution_count": 432,
   "metadata": {},
   "outputs": [],
   "source": [
    "#import libraries for the modeling\n",
    "from sklearn.model_selection import train_test_split\n",
    "from sklearn.neighbors import KNeighborsClassifier\n",
    "from sklearn.metrics import classification_report\n",
    "from sklearn.metrics import accuracy_score\n",
    "from sklearn.metrics import confusion_matrix\n",
    "from sklearn.metrics import classification_report\n",
    "from sklearn.ensemble import RandomForestClassifier\n",
    "from sklearn.model_selection import GridSearchCV\n",
    "from sklearn.metrics import f1_score\n",
    "from sklearn.metrics import make_scorer\n",
    "from sklearn.metrics import roc_curve,auc\n",
    "import xgboost as xgb\n",
    "from xgboost import XGBClassifier"
   ]
  },
  {
   "cell_type": "code",
   "execution_count": 438,
   "metadata": {},
   "outputs": [],
   "source": [
    "#split the data into training and testing data\n",
    "x_train,x_test,y_train,y_test=train_test_split(X,Y,test_size=0.25,random_state=75)"
   ]
  },
  {
   "cell_type": "code",
   "execution_count": 439,
   "metadata": {},
   "outputs": [
    {
     "data": {
      "text/plain": [
       "Text(0, 0.5, 'Accuracy')"
      ]
     },
     "execution_count": 439,
     "metadata": {},
     "output_type": "execute_result"
    },
    {
     "data": {
      "image/png": "[encoded data removed]",
      "text/plain": [
       "<Figure size 432x288 with 1 Axes>"
      ]
     },
     "metadata": {
      "needs_background": "light"
     },
     "output_type": "display_data"
    }
   ],
   "source": [
    "#first try KNN\n",
    "import matplotlib.pyplot as plt\n",
    "accuracy=[]\n",
    "for i in range(1,20):\n",
    "    knn=KNeighborsClassifier(n_neighbors=i)\n",
    "    knn.fit(x_train,y_train)\n",
    "    report = classification_report(y_test['response'],knn.predict(x_test), output_dict=True )\n",
    "    accuracy.append(report['accuracy'])\n",
    "plt.plot(range(1,20),accuracy,marker='*')\n",
    "plt.xlabel('Number of Neighbors')\n",
    "plt.ylabel('Accuracy')"
   ]
  },
  {
   "cell_type": "code",
   "execution_count": 440,
   "metadata": {},
   "outputs": [
    {
     "name": "stdout",
     "output_type": "stream",
     "text": [
      "              precision    recall  f1-score   support\n",
      "\n",
      "           0       0.69      0.66      0.67      2246\n",
      "           1       0.68      0.71      0.70      2339\n",
      "\n",
      "    accuracy                           0.69      4585\n",
      "   macro avg       0.69      0.68      0.68      4585\n",
      "weighted avg       0.69      0.69      0.68      4585\n",
      "\n",
      "[[1483  763]\n",
      " [ 681 1658]]\n"
     ]
    }
   ],
   "source": [
    "# N=13 is the best number for N\n",
    "knn=KNeighborsClassifier(n_neighbors=13)\n",
    "knn.fit(x_train,y_train)\n",
    "print(classification_report(y_test['response'],knn.predict(x_test)))\n",
    "print(confusion_matrix(y_test['response'],knn.predict(x_test)))"
   ]
  },
  {
   "cell_type": "code",
   "execution_count": 441,
   "metadata": {},
   "outputs": [
    {
     "name": "stdout",
     "output_type": "stream",
     "text": [
      "              precision    recall  f1-score   support\n",
      "\n",
      "           0       0.66      0.71      0.68      2246\n",
      "           1       0.70      0.65      0.67      2339\n",
      "\n",
      "    accuracy                           0.68      4585\n",
      "   macro avg       0.68      0.68      0.68      4585\n",
      "weighted avg       0.68      0.68      0.68      4585\n",
      "\n"
     ]
    }
   ],
   "source": [
    "#try random forest\n",
    "clf=RandomForestClassifier()\n",
    "clf.fit(x_train,y_train)\n",
    "print(classification_report(y_test['response'],clf.predict(x_test)))"
   ]
  },
  {
   "cell_type": "code",
   "execution_count": 444,
   "metadata": {},
   "outputs": [
    {
     "name": "stdout",
     "output_type": "stream",
     "text": [
      "              precision    recall  f1-score   support\n",
      "\n",
      "           0       0.72      0.71      0.72      2246\n",
      "           1       0.73      0.73      0.73      2339\n",
      "\n",
      "    accuracy                           0.72      4585\n",
      "   macro avg       0.72      0.72      0.72      4585\n",
      "weighted avg       0.72      0.72      0.72      4585\n",
      "\n"
     ]
    }
   ],
   "source": [
    "#try XGboosting\n",
    "xbg=XGBClassifier(verbosity = 0)\n",
    "xbg.fit(x_train,y_train)\n",
    "print(classification_report(y_test['response'],xbg.predict(x_test)))"
   ]
  },
  {
   "cell_type": "markdown",
   "metadata": {},
   "source": [
    "* Model ranking based on accurary:\n",
    "    1. XG Boosting accuracy is 0.72\n",
    "    2. KNN accuracy is 0.69\n",
    "    3. Random Forest accuracy is 0.68\n",
    "* Results sugguest XG Boosting is the best model among the three, based on accuray "
   ]
  },
  {
   "cell_type": "markdown",
   "metadata": {},
   "source": [
    "#### Refinement for BOGO model"
   ]
  },
  {
   "cell_type": "code",
   "execution_count": 445,
   "metadata": {},
   "outputs": [
    {
     "data": {
      "text/plain": [
       "GridSearchCV(cv='warn', error_score='raise-deprecating',\n",
       "             estimator=XGBClassifier(base_score=0.5, booster='gbtree',\n",
       "                                     colsample_bylevel=1, colsample_bynode=1,\n",
       "                                     colsample_bytree=1, gamma=0, gpu_id=-1,\n",
       "                                     importance_type='gain',\n",
       "                                     interaction_constraints='',\n",
       "                                     learning_rate=0.300000012,\n",
       "                                     max_delta_step=0, max_depth=6,\n",
       "                                     min_child_weight=1, missing=nan,\n",
       "                                     monotone_constraints='()',\n",
       "                                     n...\n",
       "                                     objective='binary:logistic',\n",
       "                                     random_state=0, reg_alpha=0, reg_lambda=1,\n",
       "                                     scale_pos_weight=1, subsample=1,\n",
       "                                     tree_method='exact', validate_parameters=1,\n",
       "                                     verbosity=0),\n",
       "             iid='warn', n_jobs=None,\n",
       "             param_grid={'max_depth': [3, 6, 10, 15],\n",
       "                         'min_samples_split': [3, 6, 8, 10],\n",
       "                         'n_estimators': [300, 1000, 500]},\n",
       "             pre_dispatch='2*n_jobs', refit=True, return_train_score=False,\n",
       "             scoring=None, verbose=0)"
      ]
     },
     "execution_count": 445,
     "metadata": {},
     "output_type": "execute_result"
    }
   ],
   "source": [
    "#Refine XG boosting using GridCV\n",
    "parameter={'n_estimators':[300,1000,500],'max_depth':[3,6,10,15],'min_samples_split':[3,6,8,10]}\n",
    "#f1_scorer=make_scorer(f1_score,average='macro',pos_label=0)\n",
    "#cv=GridSearchCV(xbg,parameter,scoring=f1_scorer)\n",
    "cv=GridSearchCV(xbg,parameter)\n",
    "cv.fit(x_train,y_train)"
   ]
  },
  {
   "cell_type": "code",
   "execution_count": 446,
   "metadata": {},
   "outputs": [
    {
     "name": "stdout",
     "output_type": "stream",
     "text": [
      "              precision    recall  f1-score   support\n",
      "\n",
      "           0       0.73      0.72      0.72      2246\n",
      "           1       0.73      0.75      0.74      2339\n",
      "\n",
      "    accuracy                           0.73      4585\n",
      "   macro avg       0.73      0.73      0.73      4585\n",
      "weighted avg       0.73      0.73      0.73      4585\n",
      "\n"
     ]
    }
   ],
   "source": [
    "print(classification_report(y_test['response'],cv.predict(x_test)))"
   ]
  },
  {
   "cell_type": "markdown",
   "metadata": {},
   "source": [
    "After refinement the accuracy and f1 score in testing dataset are 0.73"
   ]
  },
  {
   "cell_type": "code",
   "execution_count": 359,
   "metadata": {},
   "outputs": [
    {
     "data": {
      "text/plain": [
       "{'max_depth': 6, 'min_samples_split': 3, 'n_estimators': 300}"
      ]
     },
     "execution_count": 359,
     "metadata": {},
     "output_type": "execute_result"
    }
   ],
   "source": [
    "cv.best_params_"
   ]
  },
  {
   "cell_type": "code",
   "execution_count": 447,
   "metadata": {},
   "outputs": [
    {
     "data": {
      "text/plain": [
       "XGBClassifier(base_score=0.5, booster='gbtree', colsample_bylevel=1,\n",
       "              colsample_bynode=1, colsample_bytree=1, gamma=0, gpu_id=-1,\n",
       "              importance_type='gain', interaction_constraints='',\n",
       "              learning_rate=0.300000012, max_delta_step=0, max_depth=6,\n",
       "              min_child_weight=1, min_samples_split=3, missing=nan,\n",
       "              monotone_constraints='()', n_estimators=300, n_jobs=0,\n",
       "              num_parallel_tree=1, objective='binary:logistic', random_state=0,\n",
       "              reg_alpha=0, reg_lambda=1, scale_pos_weight=1, subsample=1,\n",
       "              tree_method='exact', validate_parameters=1, verbosity=0)"
      ]
     },
     "execution_count": 447,
     "metadata": {},
     "output_type": "execute_result"
    }
   ],
   "source": [
    "#final BOGO Model hyperparameter values\n",
    "cv.best_estimator_"
   ]
  },
  {
   "cell_type": "code",
   "execution_count": 448,
   "metadata": {},
   "outputs": [
    {
     "data": {
      "image/png": "[encoded data removed]",
      "text/plain": [
       "<Figure size 432x288 with 1 Axes>"
      ]
     },
     "metadata": {
      "needs_background": "light"
     },
     "output_type": "display_data"
    }
   ],
   "source": [
    "model=XGBClassifier(max_depth=6,min_samples_split=3,n_estimators=300,verbosity = 0)\n",
    "model.fit(x_train,y_train)\n",
    "feature_importances = pd.DataFrame(model.feature_importances_,\n",
    "                                   index = ['age','genderM','income','became_member_days','offercount','duration','difficulty','reward','social','mobile','web'],\n",
    "                                    columns=['importance']).sort_values('importance',ascending=False)\n",
    "feature_importances.plot.bar()\n",
    "plt.title('Best BOGO model feature importance')\n",
    "plt.show()"
   ]
  },
  {
   "cell_type": "markdown",
   "metadata": {},
   "source": [
    "* Results shows feature importance ranking for BOGO model:\n",
    "    1. the gender of the customer\n",
    "    2. the number of offer the customer received\n",
    "    3. whether the BOGO offer is broadcasted by social media \n",
    "    4. how long the customer has been Starbucks members\n",
    "    5. offer duration\n",
    "    6. the income of the customer\n",
    "    7. offer difficulty \n",
    "    8. age of customer\n",
    "    9. whether the BOGO offer is broadcasted in web"
   ]
  },
  {
   "cell_type": "markdown",
   "metadata": {},
   "source": [
    "#### Modeling for Discount Offer"
   ]
  },
  {
   "cell_type": "code",
   "execution_count": 449,
   "metadata": {},
   "outputs": [],
   "source": [
    "X=Matrix_Alldiscount[['age','genderM','income','became_member_days','offercount','duration','difficulty','reward','social','mobile','web']]\n",
    "Y=Matrix_Alldiscount[['response']]\n",
    "transformer=MinMaxScaler().fit(Matrix_Alldiscount[['age','income','response','genderM','became_member_days','offercount','duration','difficulty','reward','social','mobile','web']])\n",
    "Norm_Alldiscount=pd.DataFrame(transformer.transform(Matrix_Alldiscount[['age','income','response','genderM','became_member_days','offercount','duration','difficulty','reward','social','mobile','web']]),columns=[['age','income','response','genderM','became_member_days','offercount','duration','difficulty','reward','social','mobile','web']])"
   ]
  },
  {
   "cell_type": "code",
   "execution_count": 450,
   "metadata": {},
   "outputs": [],
   "source": [
    "Norm_Alldiscount['response']=Norm_Alldiscount['response'].astype(int)\n",
    "X=Norm_Alldiscount[['age','genderM','income','became_member_days','offercount','duration','difficulty','reward','social','mobile','web']]\n",
    "Y=Norm_Alldiscount[['response']]"
   ]
  },
  {
   "cell_type": "code",
   "execution_count": 451,
   "metadata": {},
   "outputs": [
    {
     "data": {
      "text/plain": [
       "Text(0, 0.5, 'Accuracy')"
      ]
     },
     "execution_count": 451,
     "metadata": {},
     "output_type": "execute_result"
    },
    {
     "data": {
      "image/png": "[encoded data removed]",
      "text/plain": [
       "<Figure size 432x288 with 1 Axes>"
      ]
     },
     "metadata": {
      "needs_background": "light"
     },
     "output_type": "display_data"
    }
   ],
   "source": [
    "x_train,x_test,y_train,y_test=train_test_split(X,Y,test_size=0.2,random_state=33)\n",
    "#first try KNN\n",
    "import matplotlib.pyplot as plt\n",
    "accuracy=[]\n",
    "for i in range(1,20):\n",
    "    knn=KNeighborsClassifier(n_neighbors=i)\n",
    "    knn.fit(x_train,y_train)\n",
    "    report = classification_report(y_test['response'],knn.predict(x_test), output_dict=True )\n",
    "    accuracy.append(report['accuracy'])\n",
    "plt.plot(range(1,20),accuracy,marker='*')\n",
    "plt.xlabel('Number of Neighbors')\n",
    "plt.ylabel('Accuracy')"
   ]
  },
  {
   "cell_type": "code",
   "execution_count": 452,
   "metadata": {},
   "outputs": [
    {
     "name": "stdout",
     "output_type": "stream",
     "text": [
      "              precision    recall  f1-score   support\n",
      "\n",
      "           0       0.67      0.62      0.64      1504\n",
      "           1       0.73      0.78      0.76      2040\n",
      "\n",
      "    accuracy                           0.71      3544\n",
      "   macro avg       0.70      0.70      0.70      3544\n",
      "weighted avg       0.71      0.71      0.71      3544\n",
      "\n",
      "[[ 929  575]\n",
      " [ 452 1588]]\n"
     ]
    }
   ],
   "source": [
    "# N=17 is the best number for N\n",
    "knn=KNeighborsClassifier(n_neighbors=17)\n",
    "knn.fit(x_train,y_train)\n",
    "print(classification_report(y_test['response'],knn.predict(x_test)))\n",
    "print(confusion_matrix(y_test['response'],knn.predict(x_test)))"
   ]
  },
  {
   "cell_type": "code",
   "execution_count": 453,
   "metadata": {},
   "outputs": [
    {
     "name": "stdout",
     "output_type": "stream",
     "text": [
      "              precision    recall  f1-score   support\n",
      "\n",
      "           0       0.63      0.68      0.65      1504\n",
      "           1       0.75      0.70      0.73      2040\n",
      "\n",
      "    accuracy                           0.69      3544\n",
      "   macro avg       0.69      0.69      0.69      3544\n",
      "weighted avg       0.70      0.69      0.69      3544\n",
      "\n"
     ]
    }
   ],
   "source": [
    "#try random forest\n",
    "clf=RandomForestClassifier()\n",
    "clf.fit(x_train,y_train)\n",
    "print(classification_report(y_test['response'],clf.predict(x_test)))"
   ]
  },
  {
   "cell_type": "code",
   "execution_count": 455,
   "metadata": {},
   "outputs": [
    {
     "name": "stdout",
     "output_type": "stream",
     "text": [
      "              precision    recall  f1-score   support\n",
      "\n",
      "           0       0.70      0.65      0.67      1504\n",
      "           1       0.75      0.80      0.77      2040\n",
      "\n",
      "    accuracy                           0.73      3544\n",
      "   macro avg       0.73      0.72      0.72      3544\n",
      "weighted avg       0.73      0.73      0.73      3544\n",
      "\n"
     ]
    }
   ],
   "source": [
    "#try XGboosting\n",
    "xbg=XGBClassifier(verbosity = 0)\n",
    "xbg.fit(x_train,y_train)\n",
    "print(classification_report(y_test['response'],xbg.predict(x_test)))"
   ]
  },
  {
   "cell_type": "markdown",
   "metadata": {},
   "source": [
    "* Model ranking based on accurary:\n",
    "    1. XG Boosting accuracy is 0.73\n",
    "    2. KNN accuracy is 0.71\n",
    "    3. Random Forest accuracy is 0.69\n",
    "* Results sugguest XG Boosting is the best model among the three, based on accuray"
   ]
  },
  {
   "cell_type": "markdown",
   "metadata": {},
   "source": [
    "#### Refinement for Discount model"
   ]
  },
  {
   "cell_type": "code",
   "execution_count": 456,
   "metadata": {},
   "outputs": [
    {
     "data": {
      "text/plain": [
       "GridSearchCV(cv='warn', error_score='raise-deprecating',\n",
       "             estimator=XGBClassifier(base_score=0.5, booster='gbtree',\n",
       "                                     colsample_bylevel=1, colsample_bynode=1,\n",
       "                                     colsample_bytree=1, gamma=0, gpu_id=-1,\n",
       "                                     importance_type='gain',\n",
       "                                     interaction_constraints='',\n",
       "                                     learning_rate=0.300000012,\n",
       "                                     max_delta_step=0, max_depth=6,\n",
       "                                     min_child_weight=1, missing=nan,\n",
       "                                     monotone_constraints='()',\n",
       "                                     n...\n",
       "                                     random_state=0, reg_alpha=0, reg_lambda=1,\n",
       "                                     scale_pos_weight=1, subsample=1,\n",
       "                                     tree_method='exact', validate_parameters=1,\n",
       "                                     verbosity=0),\n",
       "             iid='warn', n_jobs=None,\n",
       "             param_grid={'max_depth': [3, 6, 10, 15],\n",
       "                         'min_samples_split': [3, 6, 8, 10],\n",
       "                         'n_estimators': [300, 1000, 500]},\n",
       "             pre_dispatch='2*n_jobs', refit=True, return_train_score=False,\n",
       "             scoring=make_scorer(f1_score, average=macro, pos_label=0),\n",
       "             verbose=0)"
      ]
     },
     "execution_count": 456,
     "metadata": {},
     "output_type": "execute_result"
    }
   ],
   "source": [
    "#Refine XG boosting using GridCV\n",
    "parameter={'n_estimators':[300,1000,500],'max_depth':[3,6,10,15],'min_samples_split':[3,6,8,10]}\n",
    "f1_scorer=make_scorer(f1_score,average='macro',pos_label=0)\n",
    "cv=GridSearchCV(xbg,parameter,scoring=f1_scorer)\n",
    "cv.fit(x_train,y_train)"
   ]
  },
  {
   "cell_type": "code",
   "execution_count": 457,
   "metadata": {},
   "outputs": [
    {
     "name": "stdout",
     "output_type": "stream",
     "text": [
      "              precision    recall  f1-score   support\n",
      "\n",
      "           0       0.71      0.67      0.69      1504\n",
      "           1       0.77      0.80      0.78      2040\n",
      "\n",
      "    accuracy                           0.74      3544\n",
      "   macro avg       0.74      0.73      0.74      3544\n",
      "weighted avg       0.74      0.74      0.74      3544\n",
      "\n"
     ]
    }
   ],
   "source": [
    "print(classification_report(y_test['response'],cv.predict(x_test)))"
   ]
  },
  {
   "cell_type": "markdown",
   "metadata": {},
   "source": [
    "After refinement the accuracy is 0.74 and f1 score is 0.74 on testing dataset"
   ]
  },
  {
   "cell_type": "code",
   "execution_count": 458,
   "metadata": {},
   "outputs": [
    {
     "data": {
      "text/plain": [
       "XGBClassifier(base_score=0.5, booster='gbtree', colsample_bylevel=1,\n",
       "              colsample_bynode=1, colsample_bytree=1, gamma=0, gpu_id=-1,\n",
       "              importance_type='gain', interaction_constraints='',\n",
       "              learning_rate=0.300000012, max_delta_step=0, max_depth=6,\n",
       "              min_child_weight=1, min_samples_split=3, missing=nan,\n",
       "              monotone_constraints='()', n_estimators=500, n_jobs=0,\n",
       "              num_parallel_tree=1, objective='binary:logistic', random_state=0,\n",
       "              reg_alpha=0, reg_lambda=1, scale_pos_weight=1, subsample=1,\n",
       "              tree_method='exact', validate_parameters=1, verbosity=0)"
      ]
     },
     "execution_count": 458,
     "metadata": {},
     "output_type": "execute_result"
    }
   ],
   "source": [
    "#best Discount model hyperparameter values\n",
    "cv.best_estimator_"
   ]
  },
  {
   "cell_type": "code",
   "execution_count": 374,
   "metadata": {},
   "outputs": [
    {
     "data": {
      "text/plain": [
       "{'max_depth': 6, 'min_samples_split': 3, 'n_estimators': 300}"
      ]
     },
     "execution_count": 374,
     "metadata": {},
     "output_type": "execute_result"
    }
   ],
   "source": [
    "cv.best_params_"
   ]
  },
  {
   "cell_type": "code",
   "execution_count": 459,
   "metadata": {},
   "outputs": [
    {
     "data": {
      "image/png": "[encoded data removed]",
      "text/plain": [
       "<Figure size 432x288 with 1 Axes>"
      ]
     },
     "metadata": {
      "needs_background": "light"
     },
     "output_type": "display_data"
    }
   ],
   "source": [
    "model=XGBClassifier(max_depth=6,min_samples_split=3,n_estimators=300,verbosity = 0)\n",
    "model.fit(x_train,y_train)\n",
    "feature_importances = pd.DataFrame(model.feature_importances_,\n",
    "                                   index = ['age','genderM','income','became_member_days','offercount','duration','difficulty','reward','social','mobile','web'],\n",
    "                                    columns=['importance']).sort_values('importance',ascending=False)\n",
    "feature_importances.plot.bar()\n",
    "plt.title('Best Discount model feature importance')\n",
    "plt.show()"
   ]
  },
  {
   "cell_type": "markdown",
   "metadata": {},
   "source": [
    "* Results shows feature importance ranking for Discoun model:\n",
    "    1. whether the discount offer is broadcasted by social media\n",
    "    2. the number of offer the customer received\n",
    "    3. how long the customer has been Starbucks members\n",
    "    4. offer duration\n",
    "    5. the gender of the customer \n",
    "    6. the income of the customer\n",
    "    7. offer difficulty\n",
    "    8. age of customer \n",
    "    9. offer reward"
   ]
  },
  {
   "cell_type": "markdown",
   "metadata": {},
   "source": [
    "#### Modeling for Informational  Offer"
   ]
  },
  {
   "cell_type": "code",
   "execution_count": 460,
   "metadata": {},
   "outputs": [],
   "source": [
    "X=Matrix_Allinfo[['age','genderM','income','became_member_days','offercount','duration','difficulty','reward','social','web']]\n",
    "Y=Matrix_Allinfo[['response']]\n",
    "transformer=MinMaxScaler().fit(Matrix_Allinfo[['age','income','response','genderM','became_member_days','offercount','duration','difficulty','reward','social','web']])\n",
    "Norm_Allinfo=pd.DataFrame(transformer.transform(Matrix_Allinfo[['age','income','response','genderM','became_member_days','offercount','duration','difficulty','reward','social','web']]),columns=[['age','income','response','genderM','became_member_days','offercount','duration','difficulty','reward','social','web']])"
   ]
  },
  {
   "cell_type": "code",
   "execution_count": 461,
   "metadata": {},
   "outputs": [],
   "source": [
    "Norm_Allinfo['response']=Norm_AllBogo['response'].astype(int)\n",
    "X=Norm_Allinfo[['age','genderM','income','became_member_days','offercount','duration','difficulty','reward','social','web']]\n",
    "Y=Norm_Allinfo[['response']]"
   ]
  },
  {
   "cell_type": "code",
   "execution_count": 463,
   "metadata": {},
   "outputs": [
    {
     "data": {
      "text/plain": [
       "Text(0, 0.5, 'Accuracy')"
      ]
     },
     "execution_count": 463,
     "metadata": {},
     "output_type": "execute_result"
    },
    {
     "data": {
      "image/png": "[encoded data removed]",
      "text/plain": [
       "<Figure size 432x288 with 1 Axes>"
      ]
     },
     "metadata": {
      "needs_background": "light"
     },
     "output_type": "display_data"
    }
   ],
   "source": [
    "x_train,x_test,y_train,y_test=train_test_split(X,Y,test_size=0.25,random_state=22)\n",
    "#first try KNN\n",
    "import matplotlib.pyplot as plt\n",
    "accuracy=[]\n",
    "for i in range(1,20):\n",
    "    knn=KNeighborsClassifier(n_neighbors=i)\n",
    "    knn.fit(x_train,y_train)\n",
    "    report = classification_report(y_test['response'],knn.predict(x_test), output_dict=True )\n",
    "    accuracy.append(report['accuracy'])\n",
    "plt.plot(range(1,20),accuracy,marker='*')\n",
    "plt.xlabel('Number of Neighbors')\n",
    "plt.ylabel('Accuracy')"
   ]
  },
  {
   "cell_type": "code",
   "execution_count": 464,
   "metadata": {},
   "outputs": [
    {
     "name": "stdout",
     "output_type": "stream",
     "text": [
      "              precision    recall  f1-score   support\n",
      "\n",
      "           0       0.50      0.01      0.01       169\n",
      "           1       0.93      1.00      0.97      2375\n",
      "\n",
      "    accuracy                           0.93      2544\n",
      "   macro avg       0.72      0.50      0.49      2544\n",
      "weighted avg       0.91      0.93      0.90      2544\n",
      "\n",
      "[[   1  168]\n",
      " [   1 2374]]\n"
     ]
    }
   ],
   "source": [
    "# N=9 is the best number for N\n",
    "knn=KNeighborsClassifier(n_neighbors=9)\n",
    "knn.fit(x_train,y_train)\n",
    "print(classification_report(y_test['response'],knn.predict(x_test)))\n",
    "print(confusion_matrix(y_test['response'],knn.predict(x_test)))"
   ]
  },
  {
   "cell_type": "code",
   "execution_count": 466,
   "metadata": {},
   "outputs": [
    {
     "name": "stdout",
     "output_type": "stream",
     "text": [
      "              precision    recall  f1-score   support\n",
      "\n",
      "           0       0.13      0.04      0.06       169\n",
      "           1       0.93      0.98      0.96      2375\n",
      "\n",
      "    accuracy                           0.92      2544\n",
      "   macro avg       0.53      0.51      0.51      2544\n",
      "weighted avg       0.88      0.92      0.90      2544\n",
      "\n"
     ]
    }
   ],
   "source": [
    "#try random forest\n",
    "clf=RandomForestClassifier()\n",
    "clf.fit(x_train,y_train)\n",
    "print(classification_report(y_test['response'],clf.predict(x_test)))"
   ]
  },
  {
   "cell_type": "code",
   "execution_count": 467,
   "metadata": {},
   "outputs": [
    {
     "name": "stdout",
     "output_type": "stream",
     "text": [
      "              precision    recall  f1-score   support\n",
      "\n",
      "           0       0.17      0.01      0.02       169\n",
      "           1       0.93      1.00      0.96      2375\n",
      "\n",
      "    accuracy                           0.93      2544\n",
      "   macro avg       0.55      0.50      0.49      2544\n",
      "weighted avg       0.88      0.93      0.90      2544\n",
      "\n"
     ]
    }
   ],
   "source": [
    "#try XGboosting\n",
    "xbg=XGBClassifier(verbosity = 0)\n",
    "xbg.fit(x_train,y_train)\n",
    "print(classification_report(y_test['response'],xbg.predict(x_test)))"
   ]
  },
  {
   "cell_type": "markdown",
   "metadata": {},
   "source": [
    "#### Refinement for Informational offer"
   ]
  },
  {
   "cell_type": "code",
   "execution_count": 468,
   "metadata": {},
   "outputs": [
    {
     "data": {
      "text/plain": [
       "GridSearchCV(cv='warn', error_score='raise-deprecating',\n",
       "             estimator=XGBClassifier(base_score=0.5, booster='gbtree',\n",
       "                                     colsample_bylevel=1, colsample_bynode=1,\n",
       "                                     colsample_bytree=1, gamma=0, gpu_id=-1,\n",
       "                                     importance_type='gain',\n",
       "                                     interaction_constraints='',\n",
       "                                     learning_rate=0.300000012,\n",
       "                                     max_delta_step=0, max_depth=6,\n",
       "                                     min_child_weight=1, missing=nan,\n",
       "                                     monotone_constraints='()',\n",
       "                                     n...\n",
       "                                     objective='binary:logistic',\n",
       "                                     random_state=0, reg_alpha=0, reg_lambda=1,\n",
       "                                     scale_pos_weight=1, subsample=1,\n",
       "                                     tree_method='exact', validate_parameters=1,\n",
       "                                     verbosity=0),\n",
       "             iid='warn', n_jobs=None,\n",
       "             param_grid={'max_depth': [3, 6, 10, 15],\n",
       "                         'min_samples_split': [3, 6, 8, 10],\n",
       "                         'n_estimators': [300, 1000, 500]},\n",
       "             pre_dispatch='2*n_jobs', refit=True, return_train_score=False,\n",
       "             scoring=None, verbose=0)"
      ]
     },
     "execution_count": 468,
     "metadata": {},
     "output_type": "execute_result"
    }
   ],
   "source": [
    "#Refine XG boosting using GridCV\n",
    "parameter={'n_estimators':[300,1000,500],'max_depth':[3,6,10,15],'min_samples_split':[3,6,8,10]}\n",
    "cv=GridSearchCV(xbg,parameter)\n",
    "cv.fit(x_train,y_train)"
   ]
  },
  {
   "cell_type": "code",
   "execution_count": 469,
   "metadata": {},
   "outputs": [
    {
     "name": "stdout",
     "output_type": "stream",
     "text": [
      "              precision    recall  f1-score   support\n",
      "\n",
      "           0       0.29      0.01      0.02       169\n",
      "           1       0.93      1.00      0.96      2375\n",
      "\n",
      "    accuracy                           0.93      2544\n",
      "   macro avg       0.61      0.50      0.49      2544\n",
      "weighted avg       0.89      0.93      0.90      2544\n",
      "\n"
     ]
    }
   ],
   "source": [
    "print(classification_report(y_test['response'],cv.predict(x_test)))"
   ]
  },
  {
   "cell_type": "markdown",
   "metadata": {},
   "source": [
    "* Model ranking based on accurary:\n",
    "    1. XG Boosting accuracy is 0.93\n",
    "    2. KNN accuracy is 0.93\n",
    "    3. Random Forest accuracy is 0.92\n",
    "* Results sugguest XG Boosting is the best model among the three, based on accuray"
   ]
  },
  {
   "cell_type": "code",
   "execution_count": 471,
   "metadata": {},
   "outputs": [
    {
     "data": {
      "text/plain": [
       "XGBClassifier(base_score=0.5, booster='gbtree', colsample_bylevel=1,\n",
       "              colsample_bynode=1, colsample_bytree=1, gamma=0, gpu_id=-1,\n",
       "              importance_type='gain', interaction_constraints='',\n",
       "              learning_rate=0.300000012, max_delta_step=0, max_depth=3,\n",
       "              min_child_weight=1, min_samples_split=3, missing=nan,\n",
       "              monotone_constraints='()', n_estimators=300, n_jobs=0,\n",
       "              num_parallel_tree=1, objective='binary:logistic', random_state=0,\n",
       "              reg_alpha=0, reg_lambda=1, scale_pos_weight=1, subsample=1,\n",
       "              tree_method='exact', validate_parameters=1, verbosity=0)"
      ]
     },
     "execution_count": 471,
     "metadata": {},
     "output_type": "execute_result"
    }
   ],
   "source": [
    "#Best Informational model hyperparameter values\n",
    "cv.best_estimator_"
   ]
  },
  {
   "cell_type": "code",
   "execution_count": 470,
   "metadata": {},
   "outputs": [
    {
     "data": {
      "text/plain": [
       "{'max_depth': 3, 'min_samples_split': 3, 'n_estimators': 300}"
      ]
     },
     "execution_count": 470,
     "metadata": {},
     "output_type": "execute_result"
    }
   ],
   "source": [
    "cv.best_params_"
   ]
  },
  {
   "cell_type": "code",
   "execution_count": 472,
   "metadata": {},
   "outputs": [
    {
     "data": {
      "image/png": "[encoded data removed]",
      "text/plain": [
       "<Figure size 432x288 with 1 Axes>"
      ]
     },
     "metadata": {
      "needs_background": "light"
     },
     "output_type": "display_data"
    }
   ],
   "source": [
    "model=XGBClassifier(max_depth=3,min_samples_split=3,n_estimators=300,verbosity = 0)\n",
    "model.fit(x_train,y_train)\n",
    "feature_importances = pd.DataFrame(model.feature_importances_,\n",
    "                                   index = ['age','genderM','income','became_member_days','offercount','duration','difficulty','reward','social','web'],\n",
    "                                    columns=['importance']).sort_values('importance',ascending=False)\n",
    "feature_importances.plot.bar()\n",
    "plt.title('Best Informational model feature importance')\n",
    "plt.show()"
   ]
  },
  {
   "cell_type": "markdown",
   "metadata": {},
   "source": [
    "* Results shows feature importance ranking for Discoun model:\n",
    "    1. the number of offer the customer received\n",
    "    2. the gender of the customer \n",
    "    3. offer duration\n",
    "    4. how long the customer has been Starbucks members \n",
    "    5. the income of the customer\n",
    "    6. age of customer  "
   ]
  },
  {
   "cell_type": "markdown",
   "metadata": {},
   "source": [
    "For the three offer types, the best models are all XG Boosting, for the offer type BOGO and Discount, the f1 score for XG Boosting model is also pretty high, for offer type Informational, the f1 score for responsive group is pretty high, for non-responsive group is pretty low"
   ]
  },
  {
   "cell_type": "markdown",
   "metadata": {},
   "source": [
    "#### Potential all-in-one model"
   ]
  },
  {
   "cell_type": "code",
   "execution_count": 473,
   "metadata": {},
   "outputs": [
    {
     "data": {
      "text/plain": [
       "1.0"
      ]
     },
     "execution_count": 473,
     "metadata": {},
     "output_type": "execute_result"
    }
   ],
   "source": [
    "Matrix_All=pd.concat([Res_Bogo,NonRes_Bogo,Res_discount,NonRes_discount,Res_info,NonRes_info])\n",
    "Matrix_All['social'].mean()\n",
    "Matrix_All['web'].mean()\n",
    "Matrix_All['mobile'].mean()\n",
    "#remove email as it is always 1\n",
    "Matrix_All['email'].mean()"
   ]
  },
  {
   "cell_type": "code",
   "execution_count": 474,
   "metadata": {},
   "outputs": [],
   "source": [
    "gender_Dummyall=pd.get_dummies(Matrix_All['gender'],drop_first=True).rename(columns={'M':'genderM'})\n",
    "offertype_Dummyall=pd.get_dummies(Matrix_All['offer_type'],drop_first=True).rename(columns={'discount':'offer_type_discount','informational':'offer_type_informational'})\n",
    "Matrix_All=pd.concat([Matrix_All.drop(['email'],axis=1),gender_Dummyall,offertype_Dummyall],axis=1)\n",
    "del Matrix_All['gender']\n",
    "del  Matrix_All['offer_type']"
   ]
  },
  {
   "cell_type": "code",
   "execution_count": 475,
   "metadata": {},
   "outputs": [],
   "source": [
    "X=Matrix_All[['age','genderM','income','became_member_days','offercount','duration','difficulty','reward','social','mobile','web','offer_type_discount']]\n",
    "Y=Matrix_All[['response']]\n",
    "transformer=MinMaxScaler().fit(Matrix_All[['age','income','response','genderM','became_member_days','offercount','duration','difficulty','reward','social','mobile','web','offer_type_discount']])\n",
    "Norm_All=pd.DataFrame(transformer.transform(Matrix_All[['age','income','response','genderM','became_member_days','offercount','duration','difficulty','reward','social','mobile','web','offer_type_discount']]),columns=[['age','income','response','genderM','became_member_days','offercount','duration','difficulty','reward','social','mobile','web','offer_type_discount']])"
   ]
  },
  {
   "cell_type": "code",
   "execution_count": 476,
   "metadata": {},
   "outputs": [],
   "source": [
    "Norm_All['response']=Norm_All['response'].astype(int)\n",
    "X=Norm_All[['age','genderM','income','became_member_days','offercount','duration','difficulty','reward','social','mobile','web','offer_type_discount']]\n",
    "Y=Norm_All[['response']]"
   ]
  },
  {
   "cell_type": "code",
   "execution_count": 477,
   "metadata": {},
   "outputs": [
    {
     "data": {
      "text/plain": [
       "Text(0, 0.5, 'Accuracy')"
      ]
     },
     "execution_count": 477,
     "metadata": {},
     "output_type": "execute_result"
    },
    {
     "data": {
      "image/png": "[encoded data removed]",
      "text/plain": [
       "<Figure size 432x288 with 1 Axes>"
      ]
     },
     "metadata": {
      "needs_background": "light"
     },
     "output_type": "display_data"
    }
   ],
   "source": [
    "x_train,x_test,y_train,y_test=train_test_split(X,Y,test_size=0.2,random_state=100)\n",
    "#first try KNN\n",
    "import matplotlib.pyplot as plt\n",
    "accuracy=[]\n",
    "for i in range(1,30):\n",
    "    knn=KNeighborsClassifier(n_neighbors=i)\n",
    "    knn.fit(x_train,y_train)\n",
    "    report = classification_report(y_test['response'],knn.predict(x_test), output_dict=True )\n",
    "    accuracy.append(report['accuracy'])\n",
    "plt.plot(range(1,30),accuracy,marker='*')\n",
    "plt.xlabel('Number of Neighbors')\n",
    "plt.ylabel('Accuracy')"
   ]
  },
  {
   "cell_type": "code",
   "execution_count": 478,
   "metadata": {},
   "outputs": [
    {
     "name": "stdout",
     "output_type": "stream",
     "text": [
      "              precision    recall  f1-score   support\n",
      "\n",
      "           0       0.67      0.59      0.63      3809\n",
      "           1       0.74      0.80      0.76      5438\n",
      "\n",
      "    accuracy                           0.71      9247\n",
      "   macro avg       0.70      0.69      0.70      9247\n",
      "weighted avg       0.71      0.71      0.71      9247\n",
      "\n",
      "[[2258 1551]\n",
      " [1112 4326]]\n"
     ]
    }
   ],
   "source": [
    "# N=21 is the best number for N\n",
    "knn=KNeighborsClassifier(n_neighbors=21)\n",
    "knn.fit(x_train,y_train)\n",
    "print(classification_report(y_test['response'],knn.predict(x_test)))\n",
    "print(confusion_matrix(y_test['response'],knn.predict(x_test)))"
   ]
  },
  {
   "cell_type": "code",
   "execution_count": 479,
   "metadata": {},
   "outputs": [
    {
     "name": "stdout",
     "output_type": "stream",
     "text": [
      "              precision    recall  f1-score   support\n",
      "\n",
      "           0       0.60      0.64      0.62      3809\n",
      "           1       0.74      0.71      0.72      5438\n",
      "\n",
      "    accuracy                           0.68      9247\n",
      "   macro avg       0.67      0.67      0.67      9247\n",
      "weighted avg       0.68      0.68      0.68      9247\n",
      "\n"
     ]
    }
   ],
   "source": [
    "#try random forest\n",
    "clf=RandomForestClassifier()\n",
    "clf.fit(x_train,y_train)\n",
    "print(classification_report(y_test['response'],clf.predict(x_test)))"
   ]
  },
  {
   "cell_type": "code",
   "execution_count": 480,
   "metadata": {},
   "outputs": [
    {
     "name": "stdout",
     "output_type": "stream",
     "text": [
      "              precision    recall  f1-score   support\n",
      "\n",
      "           0       0.69      0.61      0.65      3809\n",
      "           1       0.75      0.81      0.78      5438\n",
      "\n",
      "    accuracy                           0.73      9247\n",
      "   macro avg       0.72      0.71      0.71      9247\n",
      "weighted avg       0.73      0.73      0.73      9247\n",
      "\n"
     ]
    }
   ],
   "source": [
    "#try XGboosting\n",
    "xbg=XGBClassifier(verbosity = 0)\n",
    "xbg.fit(x_train,y_train)\n",
    "print(classification_report(y_test['response'],xbg.predict(x_test)))"
   ]
  },
  {
   "cell_type": "markdown",
   "metadata": {},
   "source": [
    "* Model ranking based on accurary:\n",
    "    1. XG Boosting accuracy is 0.73\n",
    "    2. KNN accuracy is 0.71\n",
    "    3. Random Forest accuracy is 0.68\n",
    "* Results sugguest XG Boosting is the best model among the three, based on accuray"
   ]
  },
  {
   "cell_type": "markdown",
   "metadata": {},
   "source": [
    "#### Refinement for all-in-one model"
   ]
  },
  {
   "cell_type": "code",
   "execution_count": 481,
   "metadata": {},
   "outputs": [
    {
     "data": {
      "text/plain": [
       "GridSearchCV(cv='warn', error_score='raise-deprecating',\n",
       "             estimator=XGBClassifier(base_score=0.5, booster='gbtree',\n",
       "                                     colsample_bylevel=1, colsample_bynode=1,\n",
       "                                     colsample_bytree=1, gamma=0, gpu_id=-1,\n",
       "                                     importance_type='gain',\n",
       "                                     interaction_constraints='',\n",
       "                                     learning_rate=0.300000012,\n",
       "                                     max_delta_step=0, max_depth=6,\n",
       "                                     min_child_weight=1, missing=nan,\n",
       "                                     monotone_constraints='()',\n",
       "                                     n...\n",
       "                                     objective='binary:logistic',\n",
       "                                     random_state=0, reg_alpha=0, reg_lambda=1,\n",
       "                                     scale_pos_weight=1, subsample=1,\n",
       "                                     tree_method='exact', validate_parameters=1,\n",
       "                                     verbosity=0),\n",
       "             iid='warn', n_jobs=None,\n",
       "             param_grid={'max_depth': [3, 6, 10, 15],\n",
       "                         'min_samples_split': [3, 6, 8, 10],\n",
       "                         'n_estimators': [300, 1000, 500]},\n",
       "             pre_dispatch='2*n_jobs', refit=True, return_train_score=False,\n",
       "             scoring=None, verbose=0)"
      ]
     },
     "execution_count": 481,
     "metadata": {},
     "output_type": "execute_result"
    }
   ],
   "source": [
    "#Refine XG boosting using GridCV\n",
    "parameter={'n_estimators':[300,1000,500],'max_depth':[3,6,10,15],'min_samples_split':[3,6,8,10]}\n",
    "cv=GridSearchCV(xbg,parameter)\n",
    "cv.fit(x_train,y_train)"
   ]
  },
  {
   "cell_type": "code",
   "execution_count": 482,
   "metadata": {},
   "outputs": [
    {
     "name": "stdout",
     "output_type": "stream",
     "text": [
      "              precision    recall  f1-score   support\n",
      "\n",
      "           0       0.71      0.66      0.68      3809\n",
      "           1       0.77      0.81      0.79      5438\n",
      "\n",
      "    accuracy                           0.75      9247\n",
      "   macro avg       0.74      0.73      0.74      9247\n",
      "weighted avg       0.74      0.75      0.74      9247\n",
      "\n"
     ]
    }
   ],
   "source": [
    "print(classification_report(y_test['response'],cv.predict(x_test)))"
   ]
  },
  {
   "cell_type": "code",
   "execution_count": 483,
   "metadata": {},
   "outputs": [
    {
     "data": {
      "text/html": [
       "<div>\n",
       "<style scoped>\n",
       "    .dataframe tbody tr th:only-of-type {\n",
       "        vertical-align: middle;\n",
       "    }\n",
       "\n",
       "    .dataframe tbody tr th {\n",
       "        vertical-align: top;\n",
       "    }\n",
       "\n",
       "    .dataframe thead th {\n",
       "        text-align: right;\n",
       "    }\n",
       "</style>\n",
       "<table border=\"1\" class=\"dataframe\">\n",
       "  <thead>\n",
       "    <tr style=\"text-align: right;\">\n",
       "      <th></th>\n",
       "      <th>BOGO XG Boosting Model</th>\n",
       "      <th>Discount XG Boosting Model</th>\n",
       "      <th>Informational XG Boosting Model</th>\n",
       "      <th>All-in-one Model</th>\n",
       "    </tr>\n",
       "  </thead>\n",
       "  <tbody>\n",
       "    <tr>\n",
       "      <th>accuracy</th>\n",
       "      <td>0.73</td>\n",
       "      <td>0.74</td>\n",
       "      <td>0.93</td>\n",
       "      <td>0.75</td>\n",
       "    </tr>\n",
       "    <tr>\n",
       "      <th>f1-score</th>\n",
       "      <td>0.73</td>\n",
       "      <td>0.74</td>\n",
       "      <td>0.90</td>\n",
       "      <td>0.74</td>\n",
       "    </tr>\n",
       "  </tbody>\n",
       "</table>\n",
       "</div>"
      ],
      "text/plain": [
       "          BOGO XG Boosting Model  Discount XG Boosting Model  \\\n",
       "accuracy                    0.73                        0.74   \n",
       "f1-score                    0.73                        0.74   \n",
       "\n",
       "          Informational XG Boosting Model  All-in-one Model  \n",
       "accuracy                             0.93              0.75  \n",
       "f1-score                             0.90              0.74  "
      ]
     },
     "execution_count": 483,
     "metadata": {},
     "output_type": "execute_result"
    }
   ],
   "source": [
    "pd.DataFrame({'BOGO XG Boosting Model':[0.73,0.73],'Discount XG Boosting Model':[0.74,0.74],'Informational XG Boosting Model':[0.93,0.90],'All-in-one Model':[0.75,0.74]},index=['accuracy','f1-score'])"
   ]
  },
  {
   "cell_type": "markdown",
   "metadata": {},
   "source": [
    "The performance for all-in-one model is not much better than three individual models, considering metrics accuracy and f1-score on testing dataset, will use the three individual XG Boosting models for the prediction"
   ]
  },
  {
   "cell_type": "markdown",
   "metadata": {},
   "source": [
    "## Conclusion "
   ]
  },
  {
   "cell_type": "markdown",
   "metadata": {},
   "source": [
    "### Reflection"
   ]
  },
  {
   "cell_type": "markdown",
   "metadata": {},
   "source": [
    "My final decision is to use 3 seperate models to predict whether a customer will be responsive to an offer, since the prediction accurary in the testing dataset is pretty good, BOGO model 0.74, Discount model 0.75 and Informational model 0.93.\n",
    "\n",
    "The project is challenging for me in the aspect of feature engineering, on my first attempt the model was under fitting because I just considered the customer demographic information,age, gender and income. After adding in additional features, the model performance becomes better."
   ]
  },
  {
   "cell_type": "markdown",
   "metadata": {},
   "source": [
    "### Improvement"
   ]
  },
  {
   "cell_type": "markdown",
   "metadata": {},
   "source": [
    "One improvement I would like to try is to impute the missing values in the customer profile dataset, for customer gender and income, probably we could impute them by looking at the customer behaviors, if the behaviors are similar, the gender and income might be similar as well. In this way, we will have more data, which will make model prediction more accurate"
   ]
  },
  {
   "cell_type": "code",
   "execution_count": null,
   "metadata": {},
   "outputs": [],
   "source": []
  }
 ],
 "metadata": {
  "kernelspec": {
   "display_name": "Python 3",
   "language": "python",
   "name": "python3"
  },
  "language_info": {
   "codemirror_mode": {
    "name": "ipython",
    "version": 3
   },
   "file_extension": ".py",
   "mimetype": "text/x-python",
   "name": "python",
   "nbconvert_exporter": "python",
   "pygments_lexer": "ipython3",
   "version": "3.7.3"
  }
 },
 "nbformat": 4,
 "nbformat_minor": 2
}
